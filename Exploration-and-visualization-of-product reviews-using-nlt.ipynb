{
 "cells": [
  {
   "cell_type": "code",
   "execution_count": 1,
   "id": "aa23c71f",
   "metadata": {
    "_cell_guid": "b1076dfc-b9ad-4769-8c92-a6c4dae69d19",
    "_uuid": "8f2839f25d086af736a60e9eeb907d3b93b6e0e5",
    "execution": {
     "iopub.execute_input": "2024-10-07T12:13:28.764018Z",
     "iopub.status.busy": "2024-10-07T12:13:28.763583Z",
     "iopub.status.idle": "2024-10-07T12:13:31.847740Z",
     "shell.execute_reply": "2024-10-07T12:13:31.846188Z"
    },
    "papermill": {
     "duration": 3.105377,
     "end_time": "2024-10-07T12:13:31.851197",
     "exception": false,
     "start_time": "2024-10-07T12:13:28.745820",
     "status": "completed"
    },
    "tags": []
   },
   "outputs": [],
   "source": [
    "import nltk\n",
    "import pandas as pd\n",
    "import numpy as np\n",
    "import matplotlib.pyplot as plt\n",
    "from wordcloud import WordCloud\n"
   ]
  },
  {
   "cell_type": "code",
   "execution_count": 2,
   "id": "025a6126",
   "metadata": {
    "execution": {
     "iopub.execute_input": "2024-10-07T12:13:31.880657Z",
     "iopub.status.busy": "2024-10-07T12:13:31.879967Z",
     "iopub.status.idle": "2024-10-07T12:13:32.066768Z",
     "shell.execute_reply": "2024-10-07T12:13:32.065144Z"
    },
    "papermill": {
     "duration": 0.205117,
     "end_time": "2024-10-07T12:13:32.070021",
     "exception": false,
     "start_time": "2024-10-07T12:13:31.864904",
     "status": "completed"
    },
    "tags": []
   },
   "outputs": [
    {
     "name": "stdout",
     "output_type": "stream",
     "text": [
      "[nltk_data] Downloading package product_reviews_1 to\n",
      "[nltk_data]     /usr/share/nltk_data...\n",
      "[nltk_data]   Package product_reviews_1 is already up-to-date!\n",
      "[nltk_data] Downloading package product_reviews_2 to\n",
      "[nltk_data]     /usr/share/nltk_data...\n",
      "[nltk_data]   Package product_reviews_2 is already up-to-date!\n",
      "[nltk_data] Downloading package punkt to /usr/share/nltk_data...\n",
      "[nltk_data]   Package punkt is already up-to-date!\n",
      "[nltk_data] Downloading package stopwords to /usr/share/nltk_data...\n",
      "[nltk_data]   Package stopwords is already up-to-date!\n"
     ]
    },
    {
     "data": {
      "text/plain": [
       "True"
      ]
     },
     "execution_count": 2,
     "metadata": {},
     "output_type": "execute_result"
    }
   ],
   "source": [
    "nltk.download('product_reviews_1')\n",
    "nltk.download('product_reviews_2')\n",
    "nltk.download('punkt')\n",
    "nltk.download('stopwords')"
   ]
  },
  {
   "cell_type": "markdown",
   "id": "215076a8",
   "metadata": {
    "papermill": {
     "duration": 0.013141,
     "end_time": "2024-10-07T12:13:32.098485",
     "exception": false,
     "start_time": "2024-10-07T12:13:32.085344",
     "status": "completed"
    },
    "tags": []
   },
   "source": [
    "# **Data Extraction** 📊"
   ]
  },
  {
   "cell_type": "code",
   "execution_count": 3,
   "id": "7923a054",
   "metadata": {
    "execution": {
     "iopub.execute_input": "2024-10-07T12:13:32.127291Z",
     "iopub.status.busy": "2024-10-07T12:13:32.126762Z",
     "iopub.status.idle": "2024-10-07T12:13:32.137141Z",
     "shell.execute_reply": "2024-10-07T12:13:32.135876Z"
    },
    "papermill": {
     "duration": 0.027856,
     "end_time": "2024-10-07T12:13:32.139734",
     "exception": false,
     "start_time": "2024-10-07T12:13:32.111878",
     "status": "completed"
    },
    "tags": []
   },
   "outputs": [
    {
     "data": {
      "text/plain": [
       "['Apex_AD2600_Progressive_scan_DVD player.txt',\n",
       " 'Canon_G3.txt',\n",
       " 'Creative_Labs_Nomad_Jukebox_Zen_Xtra_40GB.txt',\n",
       " 'Nikon_coolpix_4300.txt',\n",
       " 'Nokia_6610.txt',\n",
       " 'README.txt']"
      ]
     },
     "execution_count": 3,
     "metadata": {},
     "output_type": "execute_result"
    }
   ],
   "source": [
    "nltk.corpus.product_reviews_1.fileids()"
   ]
  },
  {
   "cell_type": "markdown",
   "id": "c95244d0",
   "metadata": {
    "papermill": {
     "duration": 0.013172,
     "end_time": "2024-10-07T12:13:32.166467",
     "exception": false,
     "start_time": "2024-10-07T12:13:32.153295",
     "status": "completed"
    },
    "tags": []
   },
   "source": [
    "**We will be using the dataset 'Nikon_coolpix_4300.txt' from the fileids above.**"
   ]
  },
  {
   "cell_type": "markdown",
   "id": "baba8527",
   "metadata": {
    "papermill": {
     "duration": 0.013181,
     "end_time": "2024-10-07T12:13:32.192922",
     "exception": false,
     "start_time": "2024-10-07T12:13:32.179741",
     "status": "completed"
    },
    "tags": []
   },
   "source": [
    "**To extract text data from the file, there are multiple ways**\n",
    "\n",
    "  - `reviews` function extracts the reviews in an object form.\n",
    "  - `raw` function extracts the raw data from the text file.\n",
    "  - `sents` function extract tokenised list of all sentences in all the reviews.\n"
   ]
  },
  {
   "cell_type": "code",
   "execution_count": 4,
   "id": "5e193b22",
   "metadata": {
    "execution": {
     "iopub.execute_input": "2024-10-07T12:13:32.221722Z",
     "iopub.status.busy": "2024-10-07T12:13:32.221296Z",
     "iopub.status.idle": "2024-10-07T12:13:32.237050Z",
     "shell.execute_reply": "2024-10-07T12:13:32.235869Z"
    },
    "papermill": {
     "duration": 0.033075,
     "end_time": "2024-10-07T12:13:32.239640",
     "exception": false,
     "start_time": "2024-10-07T12:13:32.206565",
     "status": "completed"
    },
    "tags": []
   },
   "outputs": [
    {
     "name": "stdout",
     "output_type": "stream",
     "text": [
      "[Review(title=\"the best 4mp compact digital available\", review_lines=[ReviewLine(features=[('camera', '+2')], notes=[], sent=['this', 'camera', 'is', 'perfect', 'for', 'an', 'enthusiastic', 'amateur', 'photographer', '.']), ReviewLine(features=[('picture', '+3'), ('macro', '+3')], notes=[], sent=['the', 'pictures', 'are', 'razor', '-', 'sharp', ',', 'even', 'in', 'macro', '.']), ReviewLine(features=[('size', '+2')], notes=['u'], sent=['it', 'is', 'small', 'enough', 'to', 'fit', 'easily', 'in', 'a', 'coat', 'pocket', 'or', 'purse', '.']), ReviewLine(features=[('weight', '+1')], notes=['u'], sent=['it', 'is', 'light', 'enough', 'to', 'carry', 'around', 'all', 'day', 'without', 'bother', '.']), ReviewLine(features=[('feature', '+2')], notes=['u'], sent=['operating', 'its', 'many', 'features', 'is', 'easy', 'and', 'often', 'obvious', '-', 'i', \"'\", 'm', 'no', 'annie', 'lebovitz', ',', 'but', 'i', 'was', 'able', 'to', 'figure', 'out', 'most', 'of', 'its', 'abilities', 'just', 'messing', 'around', 'with', 'it', 'at', 'a', 'camera', 'store', '.']), ReviewLine(features=[('manual', '+2')], notes=[], sent=['the', 'manual', 'does', 'a', 'fine', 'job', 'filling', 'in', 'any', 'blanks', 'that', 'remain', '.']), ReviewLine(features=[('auto focus', '+2'), ('scene mode', '+2')], notes=[], sent=['the', 'auto', '-', 'focus', 'performs', 'well', ',', 'but', 'i', 'love', 'having', 'the', '12', 'optional', 'scene', 'modes', '-', 'they', 'are', 'dummy', '-', 'proof', ',', 'and', 'correspond', 'to', 'many', 'situations', 'in', 'which', 'i', 'would', 'actually', 'seek', 'to', 'use', 'the', 'camera', '.']), ReviewLine(features=[('rechargable battery', '+2')], notes=[], sent=['comes', 'with', 'a', '16', 'mb', 'compact', 'flash', 'and', 'one', 'rechargable', 'battery', 'the', 'charging', 'unit', ',', 'included', ',', 'is', 'fast', 'and', 'small', '.']), ReviewLine(features=[], notes=[], sent=['i', 'bought', 'a', '256', 'mb', 'cf', 'and', 'a', 'second', 'battery', ',', 'so', 'it', \"'\", 's', 'good', 'to', 'go', 'on', 'a', 'long', 'vacation', '.']), ReviewLine(features=[('camera', '+2')], notes=[], sent=['i', 'enthusiastically', 'recommend', 'this', 'camera', '.'])]), Review(title=\"perfect to grow into\", review_lines=[ReviewLine(features=[], notes=[], sent=['i', 'got', 'my', 'camera', 'three', 'days', 'back', ',', 'and', 'although', 'i', 'had', 'some', 'experience', 'with', 'digital', 'cameras', 'prior', 'to', 'purchasing', 'this', 'one', ',', 'i', 'still', 'rate', 'myself', 'as', 'a', 'beginner', '.']), ReviewLine(features=[], notes=[], sent=['i', 'bought', 'this', 'camera', 'because', 'it', 'fit', 'my', 'budget', 'and', 'the', 'pre', '-', 'production', 'and', 'production', 'model', 'reviews', 'were', 'positive', '.']), ReviewLine(features=[('camera', '+2'), ('use', '+1'), ('feature', '+2')], notes=['p', 'u'], sent=['it', \"'\", 's', 'easy', 'to', 'use', ',', 'and', 'yet', 'very', 'feature', 'rich', '.']), ReviewLine(features=[('auto mode', '+1'), ('scene mode', '+2')], notes=[], sent=['in', 'the', 'auto', 'mode', 'it', 'functions', 'basically', 'as', 'a', 'point', 'and', 'click', ',', 'the', 'scene', 'modes', 'are', 'very', 'easy', 'to', 'use', 'and', 'produce', 'good', 'results', '.']), ReviewLine(features=[('manual mode', '+2')], notes=[], sent=['the', 'manual', 'mode', 'is', 'feature', 'rich', 'and', 'i', 'can', \"'\", 't', 'wait', 'to', 'get', 'the', 'hang', 'of', 'it', '.']), ReviewLine(features=[('macro mode', '+3'), ('picture', '+3')], notes=[], sent=['the', 'macro', 'mode', 'is', 'exceptional', ',', 'the', 'pictures', 'are', 'very', 'clear', 'and', 'you', 'can', 'take', 'the', 'pictures', 'with', 'the', 'lens', 'unbelievably', 'close', 'the', 'subject', '.']), ReviewLine(features=[('battery life', '+3')], notes=[], sent=['the', 'battery', 'life', 'is', 'very', 'good', ',', 'i', 'got', 'about', '90', 'minutes', 'with', 'the', 'lcd', 'turned', 'on', 'all', 'the', 'time', ',', 'the', 'first', 'time', 'around', ',', 'and', 'i', 'have', 'been', 'using', 'it', 'with', 'the', 'lcd', 'off', 'every', 'now', 'and', 'then', ',', 'and', 'have', 'yet', 'needed', 'to', 'recharge', 'it', '.']), ReviewLine(features=[], notes=[], sent=['the', 'camera', 'comes', 'with', 'a', 'lexar', '16mb', 'starter', 'card', ',', 'which', 'stores', 'about', '10', 'images', 'in', 'fine', 'mode', 'at', 'the', 'highest', 'resolution', ',', 'i', 'intend', 'to', 'buy', 'a', 'bigger', 'card', 'soon', '.'])]), ...]\n"
     ]
    }
   ],
   "source": [
    "reviews= nltk.corpus.product_reviews_1.reviews(fileids='Nikon_coolpix_4300.txt')\n",
    "print(reviews)"
   ]
  },
  {
   "cell_type": "code",
   "execution_count": 5,
   "id": "d7ba54c9",
   "metadata": {
    "execution": {
     "iopub.execute_input": "2024-10-07T12:13:32.269613Z",
     "iopub.status.busy": "2024-10-07T12:13:32.269188Z",
     "iopub.status.idle": "2024-10-07T12:13:32.277424Z",
     "shell.execute_reply": "2024-10-07T12:13:32.276230Z"
    },
    "papermill": {
     "duration": 0.030788,
     "end_time": "2024-10-07T12:13:32.283841",
     "exception": false,
     "start_time": "2024-10-07T12:13:32.253053",
     "status": "completed"
    },
    "tags": []
   },
   "outputs": [
    {
     "name": "stdout",
     "output_type": "stream",
     "text": [
      "*****************************************************************************\n",
      "* Annotated by: Minqing Hu and Bing Liu, 2004.              \n",
      "*\t\tDepartment of Computer Sicence\n",
      "*               University of Illinois at Chicago              \n",
      "*\n",
      "* Product name: Nikon coolpix 4300\n",
      "* Review Source: amazon.com\n",
      "*\n",
      "* See Readme.txt to find the meaning of each symbol. \n",
      "*****************************************************************************\n",
      "\n",
      "[t]the best 4mp compact digital available  \n",
      "camera[+2]##this camera is perfect for an enthusiastic amateur photographer . \n",
      "picture[+3], macro[+3]##the pictures are razor-sharp , even in macro . \n",
      "size[+2][u]##it is small enough to fit easily in a coat pocket or purse . \n",
      "weight[+1][u]##it is light enough to carry around all day without bother . \n",
      "feature[+2][u]##operating its many features is easy and often obvious - i 'm no annie lebovitz , but i was able to figure out most of its abilities just messing around with it at a camera store . \n",
      "manual[+2]##the manual does a fine job filling in any blanks that remain . \n",
      "auto focus[+2],scene mode[+2]##the auto-focus performs well , but i love having the 12 optional scene modes - they are dummy-proof , and correspond to many situations in which i would actually seek to use the camera . \n",
      "rechargable battery[+2]##comes with a 16 mb compact flash and one rechargable battery the charging unit , included , is fast and small . \n",
      "##i bought a 256 mb cf and a second battery , so it 's good to go on a long vacation . \n",
      "camera[+2]##i enthusiastically recommend this camera . \n",
      "[t]perfect to grow into \n",
      "##i got my camera three days back , and although i had some experience with digital cameras prior to purchasing this one , i still rate myself as a beginner . \n",
      "##i bought this camera because it fit my budget and the pre-production and production model reviews were positive . \n",
      "camera[+2][p], use[+1][u], feature[+2]##it 's easy to use , and yet very feature rich . \n",
      "auto mode[+1],scene mode[+2]##in the auto mode it functions basically as a point and click , the scene modes are very easy to use and produce good results . \n",
      "manual mode[+2]##the manual mode is feature rich and i can 't wait to get the hang of it . \n",
      "macro mode[+3],picture[+3]##the macro mode is exceptional , the pictures are very clear and you can take the pictures with the lens unbelievably close the subject . \n",
      "battery life[+3]##the battery life is very good , i got about 90 minutes with the lcd turned on all the time , the first time around , and i have been using it with the lcd off every now and then , and have yet needed to recharge it . \n",
      "##the camera comes with a lexar 16mb starter card , which stores about 10 images in fine mode at the highest resolution , i intend to buy a bigger card soon . \n",
      "[t]near perfection \n",
      "##i love photography . \n",
      "##i had an older camera that was simply a point and shoot camera . \n",
      "##i needed something with more power , so i bought a nikon coolpix 4300 . \n",
      "camera[+3], use[+1]##i fell in love with this camera , it combines ease of use , with an immense amount of options and power . \n",
      "##you can use the scene modes , or fine tune the options , i. you can change the iso level , shutter speed , etc. \n",
      "camera[+2]##this camera is ideal for people who want more power , but do n't want to spend 1000s dollars on a camera . \n",
      "[t]not too excited \n",
      "##i bought coolpix 4300 two months after i had bought canon powershot s400 . \n",
      "##reason for two ? \n",
      "##it was not easy sharing one with my teen age kid . \n",
      "##the two cameras are very similar in functionality and pricing . \n",
      "##i 've had no problem with canon whatsoever . \n",
      "picture quality[+1]##with nikon , although picture qualities are as good as any other 4 mp cameras , i 've had the following headaches ; \n",
      "transfer[-2]##1 . pictures wo n't transfer to pc directly from the camera using the included transfer cable . \n",
      "##i did everything i could , and it took many days of frustration before concluding that the only way to transfer to pc is with the card reader . \n",
      "##card reader is included . \n",
      "##2 . the speed is noticeably slower than canon , especially so with flashes on . \n",
      "##3 . with low battery , it twice wiped out the entire pictures in the memory chip . \n",
      "##i used lexar 256 mb and i still use it which means nothing is wrong with lexar . \n",
      "##be very careful when the battery is low and make sure to carry extra batteries . \n",
      "[t]only \" cons \" here\n",
      "##the other reviewers have clearly pointed all the good things about this camera , which i do agree . \n",
      "##but there are certain issues might be they are to me here - all of them are minor; not major ones though , \n",
      "auto mode[-2]##. this camera keeps on autofocussing in auto mode with a buzzing sound which can 't be stopped . \n",
      "##would be really good if they have given an option to stop this autofocussing . \n",
      "##. if you want to have the date ; time on the image , its only through their software \" nikon view \" which reads the images date ; time from the images meta-data . \n",
      "##so if you use your card reader ; copy images - you got to onceagain open them through their software to put the date ; time . \n",
      "##in that too , there is n't a direct way to add date ; time - you got to say ' print images ' to a different directory in which there is an option to specify the date ; time . \n",
      "image[-2]##. even the slightest of the shakes totally distorts your image \n",
      "indoor image[-2]##. images taken indoor were n't so clear . \n",
      "##you got to have flash ' on ' to get it eventhough your room is well lit \n",
      "lens cap[-3]##. lens cap is a really annoying \n",
      "##. go ; get a high speed like lexar 12x or higher cf card . \n",
      "##else with simpler viking cf cards , it takes couple of seconds to write a picture with approximately \" fine **\" picture quality  \" image size : 1600 . \n",
      "movie[-2]##. the movie clips taken will always have some ' noise ' in it - you can 't avoid that . \n",
      "camera[+2], picture[+2], close-up shooting[+3]##but overall this is a good camera with a ' really good ' picture clarity ; an exceptional close-up shooting capability . \n",
      "##i would rate this is 4.5 stars picture quality ; image size defined above are specific to nikon coolpix . \n",
      "[t]bad service \n",
      "menu dial knob[-2]##within a year , there are problems with my menu dial knob . \n",
      "##it became stucked which makes it almost impossible to switch between modes . \n",
      "servicing[-2]##i send my camera to nikon for servicing , took them a whole 6 weeks to diagnose the problem . \n",
      "##worse of all , they claim that it 's some kind of internal damage and refuse to cover the cost via warranty ! \n",
      "##they would n't repair my camera unless if i pay $ 100 for parts ? and labor ! \n",
      "camera[+2],customer service[-2]##it is a good camera in terms of the function and quality , but take your chance with it because nikon absolutely sucks when it comes to customer service . \n",
      "[t]system error \n",
      "system error[-2]##got a \" system error \" problem 30 days after purchase . \n",
      "camera[-2]##made the camera totally inoperable . \n",
      "lens cap[-2]##also , the lens cap design is flawed . \n",
      "##you have to manually take the cap off in order to use it . \n",
      "audio[-2]##audio on video also lacking . \n",
      "picture[+3],delay[+1]##otherwise , it takes very good pictures ; shutter delay is n't so bad either . \n",
      "##still , had to send it back to nikon for repair . \n",
      "[t]amazing camera \n",
      "##i am an amateur photographer and here is a piece of advise to all the folks who are thinking about making a move the digital world . \n",
      "camera[+3]##nikon 4300 , i feel , is the best camera out there for the features and price . \n",
      "##here were my requirements in a digital camera : \n",
      "##1 . i had initially thought of buying a 2 or 3 megapixel camera but these are good for 4x6 \" or 5x7 \" prints and i wanted some really great 8x10 \" photos once in a while . \n",
      "##2 . i did not want a very small camera as it seems to get lost in my hands and i was n't comfortable with that . \n",
      "##i wanted a decent sized camera with a contour for my fingers to hold it steadily . \n",
      "##3 . i wanted a camera that had a lot of built-in settings for different types of suroundings while giving me an option to use my photography skills although , i am an amateur with an interest in photography by turning on the manual settings . \n",
      "##4 . and , of course , i wanted a respected brand and had to stay within my budget because i had bought an expensive camcorder before but had n't used it much . \n",
      "##depending on all the above requirements , i had narrowed down my search to nikon 4300 and canon powershot s400 models . \n",
      "##nikon got the final nod for its settings auto and manual along with movie modes , medium; compact size , price , brand name , good software that is included and previous reviews . \n",
      "##i should say i have been very happy with my decision ever since . \n",
      "picture[+3]##the pictures are absolutely amazing - the camera captures the minutest of details . \n",
      "##a few things that might make it even better : \n",
      "indoor picture[-1]##1 . pictures taken in an indoor setting are a little dull and rarely hazy if you tend to take photographs from a distance . \n",
      "delay[-2][u]##2 . it takes a while for the camera to actually capture the photograph from the time you click the button and i have seen people becoming a little impatient waiting for the flash to glow . \n",
      "picture[-2]##3 . the pictures come out hazy if your hands shake even for a moment during the entire process of taking a picture . \n",
      "##all the above , i think , are problems with all the digital cameras out there and so i have no major complaints . \n",
      "##try to buy a tripod and that should solve some of those problems . \n",
      "##whichever camera you buy , add upto about 200 dollars for an additional memory card i bought a 256 mb card , usb card reader , camera bag and the warranty . \n",
      "##and finally , get your pictures developed at a kodak picture maker machine even though it costs you a little extra - no one can beat kodak processing in terms of clarity and brightness . \n",
      "##hope this review has helped you in making up your mind . \n",
      "##i have taken about 150 photographs so far and have absolutely loved the experience . \n",
      "##i am looking forward to my vegas trip for some great photographs now . \n",
      "[t]super camera \n",
      "##with our compact 35mm broken , and a vacation in europe at hand , i finally decided to enter the digital age . \n",
      "##i first intended to buy the 3100 , but am really happy to invest the extra money for the 4300 . \n",
      "##the lense is a lot better , and the 4mb produce fantastic pictures . \n",
      "auto mode[+2], manual mode[+2], scene mode[+2]##the possibilities with auto , manual , and the very helpful \" scene \" mode , which offers 11 optimized situational settings like portrait , landscape , beach / snow , sunset etc. , are endless . \n",
      "movie mode[+2]##the movie mode is also working great . \n",
      "software[+3]##the 4300 comes with excellent easy to install software i use it on xp and win98 without problem , battery charger , usb and video cable . \n",
      "##a 64mb flash card camera comes with a 16mb holds 52 pictures on \" normal \" resolution . \n",
      "print[+2]##i experimented with online print ordering with the two major us brick and mortar retailers , and they both delivered great results . \n",
      "print[+3]##even at the \" normal \" setting , a 8x10 print ! shows not a single sign of visible rendering or pixels - you could never tell that the picture has been taken by a \" digital \" . \n",
      "battery life[+1]##the battery life is ok , but can be somewhat short when working a lot with the monitor on . \n",
      "##i therefore bought a second battery as a backup , and due to the lightingfast charging with the included charger , which by the way works on 110v as well as 220v in europe , we ran never out of \" juice \" . \n",
      "##i highly recommend the accessory kit , which provides you with everything else you need : \n",
      "##a nice camera bag , which holds camera plus all the cables and the charger . \n",
      "##furher it contains a card reader , a flash card folder for up to 8 cards , a lense cleaning rag , and an ac adapter , which is very helpful when working in an \" outlet environment \" . \n",
      "camera[+3]##over all a fantastic very compact camera , which made us experience photography on a totally new level ! \n",
      "[t]camera shake \n",
      "##after reading all the glowing review on this camera , i went to my local camera shop to try one . \n",
      "##i currently own an olympus d-550 which takes wonderful outdoor pictures . \n",
      "##however , indoor pictures of subjects more than a few feet away can be blurry or grainy . \n",
      "##anyway , in the store , i tried coolpix 4300 along with two other 4mp models minolta dimage s414 , and panasonic lumix . \n",
      "picture[-2]##focusing on a display rack about 20 feet away in a brightly lit room during day time , pictures produced by this camera were blurry and in a shade of orange . \n",
      "##pictures produced by the minolta were orange but not blurry . \n",
      "##pictures produced by the panasonic were excellent . \n",
      "##the store clerk concluded that the blurriness may be caused by shaking the camera slightly when i press the button , which is understandable since this camera is lighter than the other two models . \n",
      "##anyway , i ended up purchasing the lumix . \n",
      "##i 'm sure that this camera has all the wonderful features that others talk about . \n",
      "##however , as an average person with unsteady hands , i doubt it 'll perform well in lower light settings . \n",
      "[t]great camera \n",
      "##i purchased the nikon 4300 after several weeks of searching . \n",
      "##the value , name , and resolution signed the lease . \n",
      "picture[+3]##after nearly 800 pictures i have found that this nikon takes incredible pictures . \n",
      "digital zoom[+2],optical zoom[+2]##the digital zoom takes as good of pictures , as the optical zoom does ! \n",
      "picture[-2]##the inside pics , can be a bit challenging , but when you can instantly delete pics you dont like , that are not focused perfectly , or need lighting adjustments , make this camera very simple and effective . \n",
      "feature[+3]##i love all of the features , and presets as well . \n",
      "sunset feature[+3]##sunset feature takes incredible pics in the morning , and the evening ! \n",
      "software[+3]##the software you get with this camera is perfect . \n",
      "touchup[+2], redeye[+2]##touchups , redeye , and so on are very easy to alter , and correct . \n",
      "##i definately recommend a large memory card . \n",
      "##i use a 128mb card , and usually get around 70 to 100 pics 1024-1280 res. , with good resolution . \n",
      "##very large pics take 8mb each ! \n",
      "battery life[+2]##battery life is good , although i recommend two rechargebles , or a alkaline backup , for those emergency pics you have to have . \n",
      "camera[+3]##all and all , i am extremely pleased with this camera . \n",
      "##making the step from film to digital has been a great move . \n",
      "##i find myself emailing pics to everyone i know . \n",
      "camera[+3]##great camera , great investment ! \n",
      "[t]excellent camera \n",
      "##this is my second digital camera , though i also use one at work and have some experience with several nikon and canon models . \n",
      "use[+1][u],quality[+2],size[+1]##the nikon coolpix 4300 is wonderful -- easy to use , high quality , and compact in size . \n",
      "##with an extra battery and a couple of good sized memory cards you are all set for a day of picture taking while on vacation . \n",
      "auto setting[+2]##the auto setting does a great job most of the time but there are manual settings for those who want them . \n",
      "##if something were to happen to my nikon coolpix 4300 , i would order another just like it . \n",
      "[t]the ricksters review \n",
      "##after much research i decided on the nikon coolpix 4300 . \n",
      "camera[+2][p]##it has many great features and very few bad ones . \n",
      "picture[+2],ease of use[+2]##it takes excellent pics and is very easy to use , if you read the manual . \n",
      "##if you cant get great pics from this camera its because you havent read the manual . \n",
      "lcd[-1]##the only things i have found that i havent liked is that the lcd is hard to read in daylight but everyone elses is too . \n",
      "download[+2]##downloads are a snap and quick . \n",
      "control[+2]##controls easy yo use and easy to get to . \n",
      "camera[+3]##i 'm extremely glad i bought this camera . \n",
      "[t]super little camera \n",
      "camera[+3]##really happy with this little camera . \n",
      "size[+2][u]##it is n't big and offensive , though you would n't know it by looking at the pics it takes . \n",
      "##got it for christmas , still learning a few of the settings , but i do n't take pictures every single day . \n",
      "picture[+2],print[+2]##settings for just about everything , beautiful pics and beautiful prints . \n",
      "zoomed image[+2]##i expected the 12x digital zoom to be grainy , but onfull size high to fine quality , the zoomed images are quite impressive . \n",
      "##did buy a 256mb compact flash , it holds a lot of pics at any resolution . \n",
      "##i only wish you could get high quality tiff images at all resolutions , but does n't seem any of the buget cameras do . \n",
      "camera[+2]##still , at least from my perspective , a great camera for the money , and i 'm a happy camper ! \n",
      "[t]beginner looks experienced with coolpix \n",
      "camera[+2]##this is a wonderful camera . \n",
      "##my wife and i read and read and read reviews on different cameras for months . \n",
      "##in the end this is the one that we decided upon and since have never had buyer 's remorse . \n",
      "4mp[+2],optical zoom[+2]##4 mp gives you room for the future gaining experience ; cost offsets over time from wanting more in a camera , 3x optical and the fact that it carries nikon 's quality reputation behind it make the whole package prove itself worthwile at the price . \n",
      "picture[+2]##one neat thing - i have taken some pictures in what i thought would be impossible lighting conditions pitch black rooms - no problem for the camera - rooms looked like they had ample lighting . \n",
      "[t]can i have a few more stars please \n",
      "camera[+3]##this little camera has created a marriage between myself and nikon. never knew i could love a digital camera so much . \n",
      "software[+3], online service[+2]##the software that comes with it is amazing and the online service that comes free is really very neat. clean clear and well focused on over 95 % of all photos taken by a beginner . \n",
      "##100 % perfect if you put some thought and time into reading the manual before you take the photos . \n",
      "##i took the camera and just gave it to someone . \n",
      "##no instructions . \n",
      "photo[+2]##just point and shoot and the photos were great . \n",
      "##just imagine if you place a bit of knowledge when you take your photos . \n",
      "memory card[+2]##the memory card fit nicely since i also have a pocket pc and it automatically installed a picture software on my pda wolla . \n",
      "##my pda becames a digital album . \n",
      "##i have a 128mb card in it and can shoot over 150 hi res photos . \n",
      "camera[+2]##if you have to buy a camera on a buget, this has got to be the one . \n",
      "##go get it . \n",
      "##before they are sold out ! \n",
      "[t]great camera \n",
      "camera[+2]##great camera , i have been using this for several months and got excellent results , simple friendly usage , in many scenes indoor , outdoor , snow , close up macro etc. \n",
      "[t]great camera for a great price \n",
      "##i bought my nikon coolpix4300 about a week ago . \n",
      "camera[+3], feature[+2]##this is my first digital camera and i can say that i am quite impressed with the features that it has . \n",
      "use[+2][u]##it is easy enough to use for a beginner like me but it has plenty of features for me to grow into . \n",
      "macro[+2]##i particularly like the way it aids me in taking my macro shots . \n",
      "picture quality[+2]##my friends were impressed with the quality of the pictures i took ! \n",
      "autofocus[-2]##one downside though is that autofocus does not work well when battery is low . \n",
      "##i assume this is the case for most cameras since it does not have enough power to do autofocus . \n",
      "battery life[+1]##battery life is ok . \n",
      "##i plan on buying a second battery and a larger cf for it . \n",
      "[t]not disappointed \n",
      "camera[+2]##great camera , and for the price you can 't beat it . \n",
      "##i 've been using it for about 3 months now . \n",
      "control[+3]##i found the controls very intuitive and learned how to manuver through the menus quickly . \n",
      "quality[+3]##the quality is superb . \n",
      "size[+2]##the small size is perfect for my little hands , but may perhaps be uncomfortable or awkward for a bigger person . \n",
      "[t]field tested \n",
      "##we use older versions 880 , 885 of this model in the office and i find them to produce excellent quality photos . \n",
      "nikon 4300[+3]##the 4300 is a very durable , compact package , and i find nikon to be a brand that i can trust . \n",
      "##it comes with a 16mb flash card that you will need to upgrade ! \n",
      "##we got a 256mb card , and have been hard-pressed to fill it over a weekend . \n",
      "##the only drawbacks that i have noticed : \n",
      "battery[-2]##it comes with a rechargable battery that does not seem to last all that long , especially if you use the flash a lot . \n",
      "##so , it 's a good idea to purchase an extra battery to insure that you are not left hanging . \n",
      "auto-focus assist light[-1]##it does not have an auto-focus assist light which is nice for taking shots in low-light situations it allows the camera to focus in low light . \n",
      "##i would say that this is not a major issue , but it can be slightly annoying if you care about these things . \n",
      "optical zoom[-1]##it has a 3x optical zoom , which is average for these cameras . \n",
      "##for more , you sacrifice weight and size : more optical zoom requires more glass and focal length . \n",
      "##it does have a digital zoom on top of the optical zoom , but you sacrifice quality . \n",
      "##i set the camera to the \" manual \" mode for one main reason : \n",
      "##in any other mode it autofocuses continuously and burns batteries . \n",
      "##in manual , you can set it to \" single af \" where it will focus by depressing the shudder button prior to taking the pic ; this is not really a hinderance , you just have to be familiar with its menus and features . \n",
      "##in reality , these are the only drawbacks this camera has , much less than many other models ! \n",
      "##it is easy to \" focus \" in on the drawbacks , so do n't think i hate this camera . \n",
      "camera[+3]##it really is an awesome camera that is hard to beat for general-to moderate snapping . \n",
      "##for work , we use them in the field often , and they hold up really well . \n",
      "macro[+2]##they take excellent macro shots as well . \n",
      "menu[+2]##the menus and features are easy to manipulate and access , and it takes silent movies . \n",
      "[t]it do n't get better \n",
      "camera[+2]##i compared this to a lot of other cameras , believe me , it 's value for money . \n",
      "picture[+3]##the picturers are amazing . \n",
      "##do n't waste time looking at anything else , just buy this one . \n",
      "##it do n't get any better then the nikon 4300 . \n",
      "[t]excellent compact digital camera \n",
      "##i am a nikon fan , and owned and used slr nikon fe , n50 and n90s for many many years . \n",
      "picture quality[+2],function[+2]##recently bought this coolpix 4300 along with a 256mb ultra flash card . as expected , i happily found that qualities of the picture are excellent with 3m-4m pixel / fine combos and many of the user-friendly functions are very similar to slr models , and with added convenience of a digital camera that you can see pictures immediately . \n",
      "txt file[+2]##i particularly like the \" txt \" file which records all the control information for all the pictures you take. \n",
      "size[+2][u]##the compact digital camera is especially useful if you have little children around and you can always take the camera with you and take many pictures of them . \n",
      "##try to buy a high capacity ultra card , as it 's 2x as faster as the regular cf card . \n",
      "##consider the time you save during picture taking especially not missing a good moment and during download , it 's well worth the little extra money . \n",
      "##an extra rechargeable en-el 1 battery is also handy , so you will seldom run into \" out of battery \" situation . \n",
      "##use the rechargeable because that saves you money and helps the environment in a long run . \n",
      "##one thing puzzles me is that for \" fine and 2200 + \" quality pictures , one ultra 256mb cf card can only hold 130-140 pics , but the size of the pictures are only around 1.2 mb , the math does not add up . \n",
      "##i would expecct the card to hold over 200 pictures for size of 1.2 mb/per . \n",
      "##anybody can explain that ? \n",
      "nikon[+3]##a nikon will make you happier and leave you lots of good memories , as always . \n",
      "[t]you will not be sorry \n",
      "camera[+3],picture[+2]##i highly recommend this camera to anyone looking for a good digital camera that takes great pictures yet does n't take weeks to figure out how to operate . \n",
      "picture quality[+2]##we take this camera with us everywhere and are constantly amazed at the quality of the pictures that we get and the number of different ways the camera allows for pictures to be taken . \n",
      "camera[+3]##i am a picture fanatic so i consider myself picky and if your the same way this camera will not let you down.now buy it ! \n",
      "[t]absolutely great point and shoot camera \n",
      "##first of all , let 's start with my needs : 1 $ 500 budget 2 4mp resolution , 3 optical clarity and color , 4 fast - very little shutter lag and quick sep-up for next picture , 5 compact size , and 6 good camera grip to minimize camera shake . \n",
      "##for three months , i 've researched the internet and magazines , queried various sales personnel , and took hands-on in-store test drives . \n",
      "##and i finally settled on the nikon coolpix 4300 . \n",
      "camera[+3]##i have it for a week now , and this camera has exceeded my expectations . \n",
      "picture[+2],indoor shot[+1]##the daylight pictures are brilliant and the indoor shots are very good provided that your subject is no more than about 8 feet away . \n",
      "##the shutter lag is on par with what i 've experienced with point and shoot 35mm and aps film cameras and the next frame advance is about a couple seconds using a high speed 12x 128mb compact flash card a salesperson recommended the high speed card since next frame advance speed was important to me - and it was only a few dollars more . \n",
      "image download[+2][u]##uploading the images to my windows-based pc is very fast and simple . \n",
      "indoor shot[-1]##the only drawbacks i 've encountered are : 1 indoor shots from a distance > 8ft lack contrast and color , but i 've found this to be a problem with all cameras with built-in flashes that i 've used even on a nikon slr . \n",
      "##right now , i 'm researching for an inexpensive slave flash unit that 's designed for digital cameras . \n",
      "battery life[-1]##2 the battery life seems to be on the short side but adequate for most situations . \n",
      "##i got 45 outdoor and 15 indoor shots with the monitor on turning the camera off and on over a 4 hour period before the battery died . \n",
      "##an extra for a back-up battery would be a good investment . \n",
      "software[-1]##3 the picture editing software it came with is adequate , but not very robust . \n",
      "##i 'll still use my photosuite for editing . \n",
      "##one more thing about indoor shots - many of the reviews knocked this camera for low light focusing . \n",
      "##just for the heck of it , i took it into my dark kitchen with only indirect light coming in though the door , and the focusing was just fine . \n",
      "camera[+3]##in summary , i love this camera and would whole-heartedly recommend this to anyone wanting a high quality point and shoot camera in the medium price range . \n",
      "##- since i wrote the review above in january 2003 , i still love this camera . \n",
      "##i 've picked up a few accessories that i found to be useful . \n",
      "##i bought a digi-slave dsf-1s flash unit . \n",
      "##i do n't use a bracket , i just hold it above my head and aim the flash with my left hand . \n",
      "##i also got a ur-e 4 step down ring adapter , lc-e 900 lens cap , and the nikon 28mm filter set . \n",
      "##this provides added protection for the camera lens and allows the use of filters . \n",
      "##i leave the adapter and uv filter on all the time . \n",
      "##this also allows you to turn on the camera on without having to remove the lens cap . \n",
      "##the downside is that you might accidentally take pictures with the lens cap on , the camera wo n't fit in the small cases , and 28mm filters are expensive and hard to find . \n",
      "[t]great camera \n",
      "camera[+2]##great camera . \n",
      "use[+2]##i am impressed with how easy this camera is to use . \n",
      "picture[+2]##it takes great pictures . \n",
      "manual[+2]##the manual is easy to understand , and it is mostly idiot proof . \n",
      "size[+2][u]##it is small , unlike my canon slr , so it easily fits in my pocket . \n",
      "##i have not yet figured out how to make it snap quick pictures for action shots . \n",
      "##now where did i put that manual ? \n",
      "[t]best 4-mp camera of its size and price range \n",
      "##do n't let my five star rating fool you . \n",
      "##the nikon coolpix 4300 deserves six . \n",
      "camera[+3]##i got this camera about a month ago and i can 't put it down . \n",
      "##i was considering buying the minolta f-100 and the sony dsc-p 9 , but at the camera shop , realized this one went above and beyond . \n",
      "picture quality[+2]##i selected the 4300 right away and have gotten high quality pictures every time . \n",
      "autofocus[+1],scene mode[+1],manual mode[+1]##autofocus feels exactly like my film camera while scene and manual mode add a little fun challenge to it all . \n",
      "##i would also recommend buying an extra battery and at least a 128 mb compact flash type i memory card . \n",
      "##buy this camera and savour it . \n",
      "[t]great camera \n",
      "##i reviewed several digital cameras before settling on this one . \n",
      "##this one was rated very high by several people check out this site and epinions.com . \n",
      "camera[+2][p]##i have not been disappointed with my purchase . \n",
      "picture quality[+2]##picture quality in outdoor settings is indistinguishable from 35mm . \n",
      "indoor shot[-2]##on average , indoor shots with a flash are not quite as good as 35mm . \n",
      "##however , the convenience of using digital far outweighs the slightly less accurate indoor pictures . \n",
      "camera[+3]##i am extremely satisfied with this camera . \n",
      "##i purchased it from amazon on a since discontinued promotion . \n",
      "##buy an extra battery - life is good but still somewhat short . \n",
      "##do n't buy this camera if you are not going to purchase a 128 megabyte card . \n",
      "##you need the storage to hold a decent amount of shots at 4 megapixel resolution . \n",
      "##i have one thing to say to the numbskulls who complain that this camera 's controls are confusing and hard to remember : \n",
      "##read the directions ! \n",
      "##the regular mode in this camera works for 80 % of settings . \n",
      "scene mode[+2]##the \" scene \" mode works well for the remainder of shots that are not going to be in a \" regular \" setting . \n",
      "##i wish the camera had a higher optical zoom so that i could take better wildlife photos . \n",
      "optical setting[+1]##however , its 3x optical setting is acceptable for 70 % of the shots that i take . \n",
      "##buy this camera , you wo n't regret it . \n",
      "[t]digital nirvana \n",
      "camera[+2]##if you 're looking for a small , compact , super resolution digital camera , you can end your search with the nikon 4300 ! \n",
      "picture quality[+3]##after a lengthy and extensive journey for a feature-loaded , high performance , travel size camera , i initially gravitated to this little gem because of the superior picture quality 4 mega pixel . \n",
      "nikon[+3]##after using it for about a month , i can state unequivocably that this nikon definitely delivers a huge bang for the buck . \n",
      "use[+1], accessory[+2]##its easy to use and the sheer fun of being able to use an array of nikon accessories like the telephoto and wide-angle lenses is the proverbial icing on the cake . \n",
      "picture quality[+3],feature[+3]##yes , the picture quality and features which are too numerous to mention are unmatched for any camera in this price range . \n",
      "design[+2],construction[+2],optic[+2]##the design and construction are excellent -- as is the legendary quality of the nikon optics . \n",
      "##i own a 35mm slr camera and this is my second digital . \n",
      "##if you 're seeking that elusive state of photographic euphoria that is free of buyer 's remorse and filled with cool , then travel to the world of the coolpix 4300 ! \n",
      "[t]i love this baby\n",
      "##had it for a week . \n",
      "camera[+2]##there are so many functions in this little , yet powerful camera ! \n",
      "[t]it 's so cool \n",
      "camera[+3][p]##seriously ! i love it ! \n",
      "##my room is so dark and when i tried taking pics of it with my old camera , they came out black , but with this , they look the same in the picture as in real life . \n",
      "##better actually cause my carpet looks clean , lol . \n",
      "camera[+2]##but this camera is great ! \n",
      "picture quality[+3],movie[+1]##the picture quality is amazing and you can connect it to your tv and could make silent movies that way if you wanted to . \n",
      "##i can 't connect it to my computer though , but that 's a problem with windows me , not the camera . \n",
      "##if you have windows me you should upgrade to xp anyway , lol . \n",
      "##but it works perfectly fine on my parent 's computer . \n",
      "lense cap[+1]##it does have a lense cap , but it wo n't let you take pics with it on which is real good . \n",
      "battery[+2]##the battery recharges ral fast and the recharger thingy that comes with is real nice . \n",
      "camera[+2]##ooh , and i dropped it and it still works fine : this little camera has so many features i have n't even gotten to all of them yet . \n",
      "[t]excellent little camera \n",
      "##i did quite a bit of research before buying this camera , and this one had everything i was looking for . \n",
      "use[+1],feature[+2], camera[+2]##it 's easy for beginners to use , but has features that more serious photographers will love , so it 's an excellent camera to grow into . \n",
      "weight[+2], picture[+2][u]##it 's light weight enough to take with you everywhere , but powerful enough to get outstanding pix . \n",
      "continuous shot mode[+3]##i love the continuous shot mode , which allows you to take up to 16 pix in rapid succession -- great for action shots . \n",
      "photo quality[+3],print[+2]##i 'm amazed at the photo quality -- prints are indistinguishable from 35mm prints . \n",
      "8mb card[-2]##i only have one complaint , and that is the 8mb card included . \n",
      "8mb[-2]##8mb for a camera like this is a joke . \n",
      "##a card with more memory is a must . \n",
      "##a minor quibble , since most cameras on the market still only include the 8mb cards . \n",
      "[t]perfect consumer digital camera \n",
      "##if you do any research into digital cameras , you 'll quickly find that this camera is just about the best value out there . \n",
      "##these are the reasons i think it 's great : \n",
      "feature[+2]##1 it has all the features an amatuer photo-enthusiast would want . \n",
      "use[+2]##2 it is easy enough for my grandmother to use . \n",
      "size[+2][u],control[+2]##3 it is very compact but the controls are so well designed that they 're still easy to use . \n",
      "##4 it has optional lenses like wide angles and extra zooms . \n",
      "##5 for \" digital film \" it uses compact flash cards , which are easy to find , cheap , reliable and supported by many other devices you may have at hoome . \n",
      "nikon support[+1]##6 the nikon coolpix line is a well-established line so you know support and parts are going to be available even when nikon releases a newer model . \n",
      "picture quality[+2]##7 picture quality is excellent . \n",
      "battery life[+2]##8 battery life is excellent . \n",
      "optical zoom[+2]##9 3x built-in optical zoom is a lot for this price range . \n",
      "price[+2]##10 great price for all the features . \n",
      "##here 's what you may miss or be annoyed by with this camera : \n",
      "firewire[-1]##1 no direct firewire to the camera . \n",
      "##there is usb , though . \n",
      "viewfinder[-1]##2 the camera is so small that when you attach some lenses i have the 19mm wide-angle -- wc-e 68 , the optical viewfinder is partially obscured . \n",
      "##this does n't affect the picture , of course . \n",
      "##you just have to use the lcd viewfinder to see the whole picture . \n",
      "##it 's no problem for me personally . \n",
      "##3 battery has to be removed to recharge . \n",
      "##4 an ac adapter for powering the camera while the battery 's out is not included , although one can be purchased separately . \n",
      "##5 two different adapters -- ur-e 4 and ur-e 7 -- are required for some attachment lenses . \n",
      "##most of these \" annoyances \" , though , are comparable to what you 'll find on other cameras in this price range . \n",
      "[t]small camera \n",
      "##i am new to the whole digital camera thing ; well , new to the whole camera thing period , really . \n",
      "price[+2][u],learn[+2],image[+3]##this camera was affordable , very easy to learn , and produces spectacular images . \n",
      "auto mode[+2],scene mode[+2],manual mode[+2]##the auto-mode is good enough for most shots but the 4300 also boasts 12 versatile scene modes as well as a manual mode though i admit i have n't played with it too much on manual . \n",
      "size[+2]##it 's size also makes it ideal for travel . \n",
      "camera[+3]##overall the nikon 4300 is a very dependable , robust , and useful little camera . \n",
      "[t]nikon does it again \n",
      "camera[+3], print quality[+3]##awesome camera with huge print quality in a tiny package . \n",
      "closeup mode[+2], battery[+2]##the same 4mp chip from the 4500 camera , plus a 3x zoom with the ability to expand upon that with extenders , great closeup mode , long lasting rechargable battery , etc etc. \n",
      "camera[+3]##in my opinion it 's the best camera for the money if you 're looking for something that 's easy to use , small good for travel , and provides excellent , sharp images . \n",
      "\n"
     ]
    }
   ],
   "source": [
    "raw_text=nltk.corpus.product_reviews_1.raw(fileids='Nikon_coolpix_4300.txt')\n",
    "print(raw_text)"
   ]
  },
  {
   "cell_type": "code",
   "execution_count": 6,
   "id": "81466271",
   "metadata": {
    "execution": {
     "iopub.execute_input": "2024-10-07T12:13:32.316318Z",
     "iopub.status.busy": "2024-10-07T12:13:32.315867Z",
     "iopub.status.idle": "2024-10-07T12:13:32.326689Z",
     "shell.execute_reply": "2024-10-07T12:13:32.325372Z"
    },
    "papermill": {
     "duration": 0.030016,
     "end_time": "2024-10-07T12:13:32.329358",
     "exception": false,
     "start_time": "2024-10-07T12:13:32.299342",
     "status": "completed"
    },
    "tags": []
   },
   "outputs": [
    {
     "name": "stdout",
     "output_type": "stream",
     "text": [
      "[['this', 'camera', 'is', 'perfect', 'for', 'an', 'enthusiastic', 'amateur', 'photographer', '.'], ['the', 'pictures', 'are', 'razor', '-', 'sharp', ',', 'even', 'in', 'macro', '.'], ...]\n"
     ]
    }
   ],
   "source": [
    "review_sentence=nltk.corpus.product_reviews_1.sents(fileids='Nikon_coolpix_4300.txt')\n",
    "print(review_sentence)"
   ]
  },
  {
   "cell_type": "markdown",
   "id": "1ab24264",
   "metadata": {
    "papermill": {
     "duration": 0.0146,
     "end_time": "2024-10-07T12:13:32.359182",
     "exception": false,
     "start_time": "2024-10-07T12:13:32.344582",
     "status": "completed"
    },
    "tags": []
   },
   "source": [
    "# Data Exploration"
   ]
  },
  {
   "cell_type": "markdown",
   "id": "3d8e7e27",
   "metadata": {
    "papermill": {
     "duration": 0.014389,
     "end_time": "2024-10-07T12:13:32.388244",
     "exception": false,
     "start_time": "2024-10-07T12:13:32.373855",
     "status": "completed"
    },
    "tags": []
   },
   "source": [
    "Let's start with simple exploration to check\n",
    "\n",
    "* The total number of reviews,\n",
    "* Total number of review sentences,\n",
    "* Title for each review, and\n",
    "* Extract complete review texts"
   ]
  },
  {
   "cell_type": "code",
   "execution_count": 7,
   "id": "42dc24de",
   "metadata": {
    "execution": {
     "iopub.execute_input": "2024-10-07T12:13:32.419310Z",
     "iopub.status.busy": "2024-10-07T12:13:32.418868Z",
     "iopub.status.idle": "2024-10-07T12:13:32.535619Z",
     "shell.execute_reply": "2024-10-07T12:13:32.534420Z"
    },
    "papermill": {
     "duration": 0.135426,
     "end_time": "2024-10-07T12:13:32.538255",
     "exception": false,
     "start_time": "2024-10-07T12:13:32.402829",
     "status": "completed"
    },
    "tags": []
   },
   "outputs": [
    {
     "name": "stdout",
     "output_type": "stream",
     "text": [
      "Total no. of review available : 34\n"
     ]
    }
   ],
   "source": [
    "print(f\"Total no. of review available : {len(reviews)}\")"
   ]
  },
  {
   "cell_type": "code",
   "execution_count": 8,
   "id": "33d5e354",
   "metadata": {
    "execution": {
     "iopub.execute_input": "2024-10-07T12:13:32.569665Z",
     "iopub.status.busy": "2024-10-07T12:13:32.569197Z",
     "iopub.status.idle": "2024-10-07T12:13:32.689846Z",
     "shell.execute_reply": "2024-10-07T12:13:32.688726Z"
    },
    "papermill": {
     "duration": 0.139503,
     "end_time": "2024-10-07T12:13:32.692555",
     "exception": false,
     "start_time": "2024-10-07T12:13:32.553052",
     "status": "completed"
    },
    "tags": []
   },
   "outputs": [
    {
     "name": "stdout",
     "output_type": "stream",
     "text": [
      "Total review sentences : 346\n"
     ]
    }
   ],
   "source": [
    "print(f\"Total review sentences : {len(review_sentence)}\")"
   ]
  },
  {
   "cell_type": "code",
   "execution_count": 9,
   "id": "689ac2bb",
   "metadata": {
    "execution": {
     "iopub.execute_input": "2024-10-07T12:13:32.724252Z",
     "iopub.status.busy": "2024-10-07T12:13:32.723816Z",
     "iopub.status.idle": "2024-10-07T12:13:32.846644Z",
     "shell.execute_reply": "2024-10-07T12:13:32.845503Z"
    },
    "papermill": {
     "duration": 0.142357,
     "end_time": "2024-10-07T12:13:32.849784",
     "exception": false,
     "start_time": "2024-10-07T12:13:32.707427",
     "status": "completed"
    },
    "tags": []
   },
   "outputs": [
    {
     "name": "stdout",
     "output_type": "stream",
     "text": [
      "rev_1 : the best 4mp compact digital available\n",
      "rev_2 : perfect to grow into\n",
      "rev_3 : near perfection\n",
      "rev_4 : not too excited\n",
      "rev_5 : only \" cons \" here\n",
      "rev_6 : bad service\n",
      "rev_7 : system error\n",
      "rev_8 : amazing camera\n",
      "rev_9 : super camera\n",
      "rev_10 : camera shake\n",
      "rev_11 : great camera\n",
      "rev_12 : excellent camera\n",
      "rev_13 : the ricksters review\n",
      "rev_14 : super little camera\n",
      "rev_15 : beginner looks experienced with coolpix\n",
      "rev_16 : can i have a few more stars please\n",
      "rev_17 : great camera\n",
      "rev_18 : great camera for a great price\n",
      "rev_19 : not disappointed\n",
      "rev_20 : field tested\n",
      "rev_21 : it do n't get better\n",
      "rev_22 : excellent compact digital camera\n",
      "rev_23 : you will not be sorry\n",
      "rev_24 : absolutely great point and shoot camera\n",
      "rev_25 : great camera\n",
      "rev_26 : best 4-mp camera of its size and price range\n",
      "rev_27 : great camera\n",
      "rev_28 : digital nirvana\n",
      "rev_29 : i love this baby\n",
      "rev_30 : it 's so cool\n",
      "rev_31 : excellent little camera\n",
      "rev_32 : perfect consumer digital camera\n",
      "rev_33 : small camera\n",
      "rev_34 : nikon does it again\n"
     ]
    }
   ],
   "source": [
    "review_titles = {f\"rev_{i+1}\" : reviews[i].title for i in range(len(reviews))}\n",
    "for tit in review_titles.keys():\n",
    "    print(f\"{tit} : {review_titles[tit]}\")"
   ]
  },
  {
   "cell_type": "code",
   "execution_count": 10,
   "id": "22a73022",
   "metadata": {
    "execution": {
     "iopub.execute_input": "2024-10-07T12:13:32.881863Z",
     "iopub.status.busy": "2024-10-07T12:13:32.881439Z",
     "iopub.status.idle": "2024-10-07T12:13:33.005220Z",
     "shell.execute_reply": "2024-10-07T12:13:33.003696Z"
    },
    "papermill": {
     "duration": 0.142989,
     "end_time": "2024-10-07T12:13:33.008011",
     "exception": false,
     "start_time": "2024-10-07T12:13:32.865022",
     "status": "completed"
    },
    "tags": []
   },
   "outputs": [],
   "source": [
    "review_texts = []\n",
    "for i in range(len(reviews)):\n",
    "    review_lines = reviews[i].review_lines\n",
    "    line = ''\n",
    "    for j in range(len(review_lines)):\n",
    "        line += ' '.join(review_lines[j].sent)\n",
    "    review_texts.append(line)"
   ]
  },
  {
   "cell_type": "code",
   "execution_count": 11,
   "id": "027b541f",
   "metadata": {
    "execution": {
     "iopub.execute_input": "2024-10-07T12:13:33.040374Z",
     "iopub.status.busy": "2024-10-07T12:13:33.039361Z",
     "iopub.status.idle": "2024-10-07T12:13:33.048294Z",
     "shell.execute_reply": "2024-10-07T12:13:33.047275Z"
    },
    "papermill": {
     "duration": 0.02997,
     "end_time": "2024-10-07T12:13:33.052917",
     "exception": false,
     "start_time": "2024-10-07T12:13:33.022947",
     "status": "completed"
    },
    "tags": []
   },
   "outputs": [
    {
     "name": "stdout",
     "output_type": "stream",
     "text": [
      "                                                                Complete Review Texts                                                                 \n",
      "Title --> the best 4mp compact digital available :\n",
      "\n",
      "this camera is perfect for an enthusiastic amateur photographer .the pictures are razor - sharp , even in macro .it is small enough to fit easily in a coat pocket or purse .it is light enough to carry around all day without bother .operating its many features is easy and often obvious - i ' m no annie lebovitz , but i was able to figure out most of its abilities just messing around with it at a camera store .the manual does a fine job filling in any blanks that remain .the auto - focus performs well , but i love having the 12 optional scene modes - they are dummy - proof , and correspond to many situations in which i would actually seek to use the camera .comes with a 16 mb compact flash and one rechargable battery the charging unit , included , is fast and small .i bought a 256 mb cf and a second battery , so it ' s good to go on a long vacation .i enthusiastically recommend this camera .\n",
      "\n",
      "Summary --> \n",
      "Len of review : 179 words.\n",
      "\n",
      "Title --> perfect to grow into :\n",
      "\n",
      "i got my camera three days back , and although i had some experience with digital cameras prior to purchasing this one , i still rate myself as a beginner .i bought this camera because it fit my budget and the pre - production and production model reviews were positive .it ' s easy to use , and yet very feature rich .in the auto mode it functions basically as a point and click , the scene modes are very easy to use and produce good results .the manual mode is feature rich and i can ' t wait to get the hang of it .the macro mode is exceptional , the pictures are very clear and you can take the pictures with the lens unbelievably close the subject .the battery life is very good , i got about 90 minutes with the lcd turned on all the time , the first time around , and i have been using it with the lcd off every now and then , and have yet needed to recharge it .the camera comes with a lexar 16mb starter card , which stores about 10 images in fine mode at the highest resolution , i intend to buy a bigger card soon .\n",
      "\n",
      "Summary --> \n",
      "Len of review : 209 words.\n",
      "\n",
      "Title --> near perfection :\n",
      "\n",
      "i love photography .i had an older camera that was simply a point and shoot camera .i needed something with more power , so i bought a nikon coolpix 4300 .i fell in love with this camera , it combines ease of use , with an immense amount of options and power .you can use the scene modes , or fine tune the options , i . you can change the iso level , shutter speed , etc .this camera is ideal for people who want more power , but do n ' t want to spend 1000s dollars on a camera .\n",
      "\n",
      "Summary --> \n",
      "Len of review : 103 words.\n",
      "\n",
      "Title --> not too excited :\n",
      "\n",
      "i bought coolpix 4300 two months after i had bought canon powershot s400 .reason for two ?it was not easy sharing one with my teen age kid .the two cameras are very similar in functionality and pricing .i ' ve had no problem with canon whatsoever .with nikon , although picture qualities are as good as any other 4 mp cameras , i ' ve had the following headaches ;1 . pictures wo n ' t transfer to pc directly from the camera using the included transfer cable .i did everything i could , and it took many days of frustration before concluding that the only way to transfer to pc is with the card reader .card reader is included .2 . the speed is noticeably slower than canon , especially so with flashes on .3 . with low battery , it twice wiped out the entire pictures in the memory chip .i used lexar 256 mb and i still use it which means nothing is wrong with lexar .be very careful when the battery is low and make sure to carry extra batteries .\n",
      "\n",
      "Summary --> \n",
      "Len of review : 185 words.\n",
      "\n",
      "Title --> only \" cons \" here :\n",
      "\n",
      "the other reviewers have clearly pointed all the good things about this camera , which i do agree .but there are certain issues might be they are to me here - all of them are minor ; not major ones though ,. this camera keeps on autofocussing in auto mode with a buzzing sound which can ' t be stopped .would be really good if they have given an option to stop this autofocussing .. if you want to have the date ; time on the image , its only through their software \" nikon view \" which reads the images date ; time from the images meta - data .so if you use your card reader ; copy images - you got to onceagain open them through their software to put the date ; time .in that too , there is n ' t a direct way to add date ; time - you got to say ' print images ' to a different directory in which there is an option to specify the date ; time .. even the slightest of the shakes totally distorts your image. images taken indoor were n ' t so clear .you got to have flash ' on ' to get it eventhough your room is well lit. lens cap is a really annoying. go ; get a high speed like lexar 12x or higher cf card .else with simpler viking cf cards , it takes couple of seconds to write a picture with approximately \" fine **\" picture quality \" image size : 1600 .. the movie clips taken will always have some ' noise ' in it - you can ' t avoid that .but overall this is a good camera with a ' really good ' picture clarity ; an exceptional close - up shooting capability .i would rate this is 4 . 5 stars picture quality ; image size defined above are specific to nikon coolpix .\n",
      "\n",
      "Summary --> \n",
      "Len of review : 328 words.\n",
      "\n",
      "Title --> bad service :\n",
      "\n",
      "within a year , there are problems with my menu dial knob .it became stucked which makes it almost impossible to switch between modes .i send my camera to nikon for servicing , took them a whole 6 weeks to diagnose the problem .worse of all , they claim that it ' s some kind of internal damage and refuse to cover the cost via warranty !they would n ' t repair my camera unless if i pay $ 100 for parts ? and labor !it is a good camera in terms of the function and quality , but take your chance with it because nikon absolutely sucks when it comes to customer service .\n",
      "\n",
      "Summary --> \n",
      "Len of review : 115 words.\n",
      "\n",
      "Title --> system error :\n",
      "\n",
      "got a \" system error \" problem 30 days after purchase .made the camera totally inoperable .also , the lens cap design is flawed .you have to manually take the cap off in order to use it .audio on video also lacking .otherwise , it takes very good pictures ; shutter delay is n ' t so bad either .still , had to send it back to nikon for repair .\n",
      "\n",
      "Summary --> \n",
      "Len of review : 71 words.\n",
      "\n",
      "Title --> amazing camera :\n",
      "\n",
      "i am an amateur photographer and here is a piece of advise to all the folks who are thinking about making a move the digital world .nikon 4300 , i feel , is the best camera out there for the features and price .here were my requirements in a digital camera :1 . i had initially thought of buying a 2 or 3 megapixel camera but these are good for 4x6 \" or 5x7 \" prints and i wanted some really great 8x10 \" photos once in a while .2 . i did not want a very small camera as it seems to get lost in my hands and i was n ' t comfortable with that .i wanted a decent sized camera with a contour for my fingers to hold it steadily .3 . i wanted a camera that had a lot of built - in settings for different types of suroundings while giving me an option to use my photography skills although , i am an amateur with an interest in photography by turning on the manual settings .4 . and , of course , i wanted a respected brand and had to stay within my budget because i had bought an expensive camcorder before but had n ' t used it much .depending on all the above requirements , i had narrowed down my search to nikon 4300 and canon powershot s400 models .nikon got the final nod for its settings auto and manual along with movie modes , medium ; compact size , price , brand name , good software that is included and previous reviews .i should say i have been very happy with my decision ever since .the pictures are absolutely amazing - the camera captures the minutest of details .a few things that might make it even better :1 . pictures taken in an indoor setting are a little dull and rarely hazy if you tend to take photographs from a distance .2 . it takes a while for the camera to actually capture the photograph from the time you click the button and i have seen people becoming a little impatient waiting for the flash to glow .3 . the pictures come out hazy if your hands shake even for a moment during the entire process of taking a picture .all the above , i think , are problems with all the digital cameras out there and so i have no major complaints .try to buy a tripod and that should solve some of those problems .whichever camera you buy , add upto about 200 dollars for an additional memory card i bought a 256 mb card , usb card reader , camera bag and the warranty .and finally , get your pictures developed at a kodak picture maker machine even though it costs you a little extra - no one can beat kodak processing in terms of clarity and brightness .hope this review has helped you in making up your mind .i have taken about 150 photographs so far and have absolutely loved the experience .i am looking forward to my vegas trip for some great photographs now .\n",
      "\n",
      "Summary --> \n",
      "Len of review : 528 words.\n",
      "\n",
      "Title --> super camera :\n",
      "\n",
      "with our compact 35mm broken , and a vacation in europe at hand , i finally decided to enter the digital age .i first intended to buy the 3100 , but am really happy to invest the extra money for the 4300 .the lense is a lot better , and the 4mb produce fantastic pictures .the possibilities with auto , manual , and the very helpful \" scene \" mode , which offers 11 optimized situational settings like portrait , landscape , beach / snow , sunset etc . , are endless .the movie mode is also working great .the 4300 comes with excellent easy to install software i use it on xp and win98 without problem , battery charger , usb and video cable .a 64mb flash card camera comes with a 16mb holds 52 pictures on \" normal \" resolution .i experimented with online print ordering with the two major us brick and mortar retailers , and they both delivered great results .even at the \" normal \" setting , a 8x10 print ! shows not a single sign of visible rendering or pixels - you could never tell that the picture has been taken by a \" digital \" .the battery life is ok , but can be somewhat short when working a lot with the monitor on .i therefore bought a second battery as a backup , and due to the lightingfast charging with the included charger , which by the way works on 110v as well as 220v in europe , we ran never out of \" juice \" .i highly recommend the accessory kit , which provides you with everything else you need :a nice camera bag , which holds camera plus all the cables and the charger .furher it contains a card reader , a flash card folder for up to 8 cards , a lense cleaning rag , and an ac adapter , which is very helpful when working in an \" outlet environment \" .over all a fantastic very compact camera , which made us experience photography on a totally new level !\n",
      "\n",
      "Summary --> \n",
      "Len of review : 352 words.\n",
      "\n",
      "Title --> camera shake :\n",
      "\n",
      "after reading all the glowing review on this camera , i went to my local camera shop to try one .i currently own an olympus d - 550 which takes wonderful outdoor pictures .however , indoor pictures of subjects more than a few feet away can be blurry or grainy .anyway , in the store , i tried coolpix 4300 along with two other 4mp models minolta dimage s414 , and panasonic lumix .focusing on a display rack about 20 feet away in a brightly lit room during day time , pictures produced by this camera were blurry and in a shade of orange .pictures produced by the minolta were orange but not blurry .pictures produced by the panasonic were excellent .the store clerk concluded that the blurriness may be caused by shaking the camera slightly when i press the button , which is understandable since this camera is lighter than the other two models .anyway , i ended up purchasing the lumix .i ' m sure that this camera has all the wonderful features that others talk about .however , as an average person with unsteady hands , i doubt it ' ll perform well in lower light settings .\n",
      "\n",
      "Summary --> \n",
      "Len of review : 201 words.\n",
      "\n",
      "Title --> great camera :\n",
      "\n",
      "i purchased the nikon 4300 after several weeks of searching .the value , name , and resolution signed the lease .after nearly 800 pictures i have found that this nikon takes incredible pictures .the digital zoom takes as good of pictures , as the optical zoom does !the inside pics , can be a bit challenging , but when you can instantly delete pics you dont like , that are not focused perfectly , or need lighting adjustments , make this camera very simple and effective .i love all of the features , and presets as well .sunset feature takes incredible pics in the morning , and the evening !the software you get with this camera is perfect .touchups , redeye , and so on are very easy to alter , and correct .i definately recommend a large memory card .i use a 128mb card , and usually get around 70 to 100 pics 1024 - 1280 res . , with good resolution .very large pics take 8mb each !battery life is good , although i recommend two rechargebles , or a alkaline backup , for those emergency pics you have to have .all and all , i am extremely pleased with this camera .making the step from film to digital has been a great move .i find myself emailing pics to everyone i know .great camera , great investment !\n",
      "\n",
      "Summary --> \n",
      "Len of review : 231 words.\n",
      "\n",
      "Title --> excellent camera :\n",
      "\n",
      "this is my second digital camera , though i also use one at work and have some experience with several nikon and canon models .the nikon coolpix 4300 is wonderful -- easy to use , high quality , and compact in size .with an extra battery and a couple of good sized memory cards you are all set for a day of picture taking while on vacation .the auto setting does a great job most of the time but there are manual settings for those who want them .if something were to happen to my nikon coolpix 4300 , i would order another just like it .\n",
      "\n",
      "Summary --> \n",
      "Len of review : 107 words.\n",
      "\n",
      "Title --> the ricksters review :\n",
      "\n",
      "after much research i decided on the nikon coolpix 4300 .it has many great features and very few bad ones .it takes excellent pics and is very easy to use , if you read the manual .if you cant get great pics from this camera its because you havent read the manual .the only things i have found that i havent liked is that the lcd is hard to read in daylight but everyone elses is too .downloads are a snap and quick .controls easy yo use and easy to get to .i ' m extremely glad i bought this camera .\n",
      "\n",
      "Summary --> \n",
      "Len of review : 102 words.\n",
      "\n",
      "Title --> super little camera :\n",
      "\n",
      "really happy with this little camera .it is n ' t big and offensive , though you would n ' t know it by looking at the pics it takes .got it for christmas , still learning a few of the settings , but i do n ' t take pictures every single day .settings for just about everything , beautiful pics and beautiful prints .i expected the 12x digital zoom to be grainy , but onfull size high to fine quality , the zoomed images are quite impressive .did buy a 256mb compact flash , it holds a lot of pics at any resolution .i only wish you could get high quality tiff images at all resolutions , but does n ' t seem any of the buget cameras do .still , at least from my perspective , a great camera for the money , and i ' m a happy camper !\n",
      "\n",
      "Summary --> \n",
      "Len of review : 154 words.\n",
      "\n",
      "Title --> beginner looks experienced with coolpix :\n",
      "\n",
      "this is a wonderful camera .my wife and i read and read and read reviews on different cameras for months .in the end this is the one that we decided upon and since have never had buyer ' s remorse .4 mp gives you room for the future gaining experience ; cost offsets over time from wanting more in a camera , 3x optical and the fact that it carries nikon ' s quality reputation behind it make the whole package prove itself worthwile at the price .one neat thing - i have taken some pictures in what i thought would be impossible lighting conditions pitch black rooms - no problem for the camera - rooms looked like they had ample lighting .\n",
      "\n",
      "Summary --> \n",
      "Len of review : 123 words.\n",
      "\n",
      "Title --> can i have a few more stars please :\n",
      "\n",
      "this little camera has created a marriage between myself and nikon . never knew i could love a digital camera so much .the software that comes with it is amazing and the online service that comes free is really very neat . clean clear and well focused on over 95 % of all photos taken by a beginner .100 % perfect if you put some thought and time into reading the manual before you take the photos .i took the camera and just gave it to someone .no instructions .just point and shoot and the photos were great .just imagine if you place a bit of knowledge when you take your photos .the memory card fit nicely since i also have a pocket pc and it automatically installed a picture software on my pda wolla .my pda becames a digital album .i have a 128mb card in it and can shoot over 150 hi res photos .if you have to buy a camera on a buget , this has got to be the one .go get it .before they are sold out !\n",
      "\n",
      "Summary --> \n",
      "Len of review : 183 words.\n",
      "\n",
      "Title --> great camera :\n",
      "\n",
      "great camera , i have been using this for several months and got excellent results , simple friendly usage , in many scenes indoor , outdoor , snow , close up macro etc .\n",
      "\n",
      "Summary --> \n",
      "Len of review : 34 words.\n",
      "\n",
      "Title --> great camera for a great price :\n",
      "\n",
      "i bought my nikon coolpix4300 about a week ago .this is my first digital camera and i can say that i am quite impressed with the features that it has .it is easy enough to use for a beginner like me but it has plenty of features for me to grow into .i particularly like the way it aids me in taking my macro shots .my friends were impressed with the quality of the pictures i took !one downside though is that autofocus does not work well when battery is low .i assume this is the case for most cameras since it does not have enough power to do autofocus .battery life is ok .i plan on buying a second battery and a larger cf for it .\n",
      "\n",
      "Summary --> \n",
      "Len of review : 128 words.\n",
      "\n",
      "Title --> not disappointed :\n",
      "\n",
      "great camera , and for the price you can ' t beat it .i ' ve been using it for about 3 months now .i found the controls very intuitive and learned how to manuver through the menus quickly .the quality is superb .the small size is perfect for my little hands , but may perhaps be uncomfortable or awkward for a bigger person .\n",
      "\n",
      "Summary --> \n",
      "Len of review : 65 words.\n",
      "\n",
      "Title --> field tested :\n",
      "\n",
      "we use older versions 880 , 885 of this model in the office and i find them to produce excellent quality photos .the 4300 is a very durable , compact package , and i find nikon to be a brand that i can trust .it comes with a 16mb flash card that you will need to upgrade !we got a 256mb card , and have been hard - pressed to fill it over a weekend .the only drawbacks that i have noticed :it comes with a rechargable battery that does not seem to last all that long , especially if you use the flash a lot .so , it ' s a good idea to purchase an extra battery to insure that you are not left hanging .it does not have an auto - focus assist light which is nice for taking shots in low - light situations it allows the camera to focus in low light .i would say that this is not a major issue , but it can be slightly annoying if you care about these things .it has a 3x optical zoom , which is average for these cameras .for more , you sacrifice weight and size : more optical zoom requires more glass and focal length .it does have a digital zoom on top of the optical zoom , but you sacrifice quality .i set the camera to the \" manual \" mode for one main reason :in any other mode it autofocuses continuously and burns batteries .in manual , you can set it to \" single af \" where it will focus by depressing the shudder button prior to taking the pic ; this is not really a hinderance , you just have to be familiar with its menus and features .in reality , these are the only drawbacks this camera has , much less than many other models !it is easy to \" focus \" in on the drawbacks , so do n ' t think i hate this camera .it really is an awesome camera that is hard to beat for general - to moderate snapping .for work , we use them in the field often , and they hold up really well .they take excellent macro shots as well .the menus and features are easy to manipulate and access , and it takes silent movies .\n",
      "\n",
      "Summary --> \n",
      "Len of review : 395 words.\n",
      "\n",
      "Title --> it do n't get better :\n",
      "\n",
      "i compared this to a lot of other cameras , believe me , it ' s value for money .the picturers are amazing .do n ' t waste time looking at anything else , just buy this one .it do n ' t get any better then the nikon 4300 .\n",
      "\n",
      "Summary --> \n",
      "Len of review : 51 words.\n",
      "\n",
      "Title --> excellent compact digital camera :\n",
      "\n",
      "i am a nikon fan , and owned and used slr nikon fe , n50 and n90s for many many years .recently bought this coolpix 4300 along with a 256mb ultra flash card . as expected , i happily found that qualities of the picture are excellent with 3m - 4m pixel / fine combos and many of the user - friendly functions are very similar to slr models , and with added convenience of a digital camera that you can see pictures immediately .i particularly like the \" txt \" file which records all the control information for all the pictures you take .the compact digital camera is especially useful if you have little children around and you can always take the camera with you and take many pictures of them .try to buy a high capacity ultra card , as it ' s 2x as faster as the regular cf card .consider the time you save during picture taking especially not missing a good moment and during download , it ' s well worth the little extra money .an extra rechargeable en - el 1 battery is also handy , so you will seldom run into \" out of battery \" situation .use the rechargeable because that saves you money and helps the environment in a long run .one thing puzzles me is that for \" fine and 2200 + \" quality pictures , one ultra 256mb cf card can only hold 130 - 140 pics , but the size of the pictures are only around 1 . 2 mb , the math does not add up .i would expecct the card to hold over 200 pictures for size of 1 . 2 mb / per .anybody can explain that ?a nikon will make you happier and leave you lots of good memories , as always .\n",
      "\n",
      "Summary --> \n",
      "Len of review : 309 words.\n",
      "\n",
      "Title --> you will not be sorry :\n",
      "\n",
      "i highly recommend this camera to anyone looking for a good digital camera that takes great pictures yet does n ' t take weeks to figure out how to operate .we take this camera with us everywhere and are constantly amazed at the quality of the pictures that we get and the number of different ways the camera allows for pictures to be taken .i am a picture fanatic so i consider myself picky and if your the same way this camera will not let you down . now buy it !\n",
      "\n",
      "Summary --> \n",
      "Len of review : 92 words.\n",
      "\n",
      "Title --> absolutely great point and shoot camera :\n",
      "\n",
      "first of all , let ' s start with my needs : 1 $ 500 budget 2 4mp resolution , 3 optical clarity and color , 4 fast - very little shutter lag and quick sep - up for next picture , 5 compact size , and 6 good camera grip to minimize camera shake .for three months , i ' ve researched the internet and magazines , queried various sales personnel , and took hands - on in - store test drives .and i finally settled on the nikon coolpix 4300 .i have it for a week now , and this camera has exceeded my expectations .the daylight pictures are brilliant and the indoor shots are very good provided that your subject is no more than about 8 feet away .the shutter lag is on par with what i ' ve experienced with point and shoot 35mm and aps film cameras and the next frame advance is about a couple seconds using a high speed 12x 128mb compact flash card a salesperson recommended the high speed card since next frame advance speed was important to me - and it was only a few dollars more .uploading the images to my windows - based pc is very fast and simple .the only drawbacks i ' ve encountered are : 1 indoor shots from a distance > 8ft lack contrast and color , but i ' ve found this to be a problem with all cameras with built - in flashes that i ' ve used even on a nikon slr .right now , i ' m researching for an inexpensive slave flash unit that ' s designed for digital cameras .2 the battery life seems to be on the short side but adequate for most situations .i got 45 outdoor and 15 indoor shots with the monitor on turning the camera off and on over a 4 hour period before the battery died .an extra for a back - up battery would be a good investment .3 the picture editing software it came with is adequate , but not very robust .i ' ll still use my photosuite for editing .one more thing about indoor shots - many of the reviews knocked this camera for low light focusing .just for the heck of it , i took it into my dark kitchen with only indirect light coming in though the door , and the focusing was just fine .in summary , i love this camera and would whole - heartedly recommend this to anyone wanting a high quality point and shoot camera in the medium price range .- since i wrote the review above in january 2003 , i still love this camera .i ' ve picked up a few accessories that i found to be useful .i bought a digi - slave dsf - 1s flash unit .i do n ' t use a bracket , i just hold it above my head and aim the flash with my left hand .i also got a ur - e 4 step down ring adapter , lc - e 900 lens cap , and the nikon 28mm filter set .this provides added protection for the camera lens and allows the use of filters .i leave the adapter and uv filter on all the time .this also allows you to turn on the camera on without having to remove the lens cap .the downside is that you might accidentally take pictures with the lens cap on , the camera wo n ' t fit in the small cases , and 28mm filters are expensive and hard to find .\n",
      "\n",
      "Summary --> \n",
      "Len of review : 607 words.\n",
      "\n",
      "Title --> great camera :\n",
      "\n",
      "great camera .i am impressed with how easy this camera is to use .it takes great pictures .the manual is easy to understand , and it is mostly idiot proof .it is small , unlike my canon slr , so it easily fits in my pocket .i have not yet figured out how to make it snap quick pictures for action shots .now where did i put that manual ?\n",
      "\n",
      "Summary --> \n",
      "Len of review : 70 words.\n",
      "\n",
      "Title --> best 4-mp camera of its size and price range :\n",
      "\n",
      "do n ' t let my five star rating fool you .the nikon coolpix 4300 deserves six .i got this camera about a month ago and i can ' t put it down .i was considering buying the minolta f - 100 and the sony dsc - p 9 , but at the camera shop , realized this one went above and beyond .i selected the 4300 right away and have gotten high quality pictures every time .autofocus feels exactly like my film camera while scene and manual mode add a little fun challenge to it all .i would also recommend buying an extra battery and at least a 128 mb compact flash type i memory card .buy this camera and savour it .\n",
      "\n",
      "Summary --> \n",
      "Len of review : 124 words.\n",
      "\n",
      "Title --> great camera :\n",
      "\n",
      "i reviewed several digital cameras before settling on this one .this one was rated very high by several people check out this site and epinions . com .i have not been disappointed with my purchase .picture quality in outdoor settings is indistinguishable from 35mm .on average , indoor shots with a flash are not quite as good as 35mm .however , the convenience of using digital far outweighs the slightly less accurate indoor pictures .i am extremely satisfied with this camera .i purchased it from amazon on a since discontinued promotion .buy an extra battery - life is good but still somewhat short .do n ' t buy this camera if you are not going to purchase a 128 megabyte card .you need the storage to hold a decent amount of shots at 4 megapixel resolution .i have one thing to say to the numbskulls who complain that this camera ' s controls are confusing and hard to remember :read the directions !the regular mode in this camera works for 80 % of settings .the \" scene \" mode works well for the remainder of shots that are not going to be in a \" regular \" setting .i wish the camera had a higher optical zoom so that i could take better wildlife photos .however , its 3x optical setting is acceptable for 70 % of the shots that i take .buy this camera , you wo n ' t regret it .\n",
      "\n",
      "Summary --> \n",
      "Len of review : 244 words.\n",
      "\n",
      "Title --> digital nirvana :\n",
      "\n",
      "if you ' re looking for a small , compact , super resolution digital camera , you can end your search with the nikon 4300 !after a lengthy and extensive journey for a feature - loaded , high performance , travel size camera , i initially gravitated to this little gem because of the superior picture quality 4 mega pixel .after using it for about a month , i can state unequivocably that this nikon definitely delivers a huge bang for the buck .its easy to use and the sheer fun of being able to use an array of nikon accessories like the telephoto and wide - angle lenses is the proverbial icing on the cake .yes , the picture quality and features which are too numerous to mention are unmatched for any camera in this price range .the design and construction are excellent -- as is the legendary quality of the nikon optics .i own a 35mm slr camera and this is my second digital .if you ' re seeking that elusive state of photographic euphoria that is free of buyer ' s remorse and filled with cool , then travel to the world of the coolpix 4300 !\n",
      "\n",
      "Summary --> \n",
      "Len of review : 200 words.\n",
      "\n",
      "Title --> i love this baby :\n",
      "\n",
      "had it for a week .there are so many functions in this little , yet powerful camera !\n",
      "\n",
      "Summary --> \n",
      "Len of review : 18 words.\n",
      "\n",
      "Title --> it 's so cool :\n",
      "\n",
      "seriously ! i love it !my room is so dark and when i tried taking pics of it with my old camera , they came out black , but with this , they look the same in the picture as in real life .better actually cause my carpet looks clean , lol .but this camera is great !the picture quality is amazing and you can connect it to your tv and could make silent movies that way if you wanted to .i can ' t connect it to my computer though , but that ' s a problem with windows me , not the camera .if you have windows me you should upgrade to xp anyway , lol .but it works perfectly fine on my parent ' s computer .it does have a lense cap , but it wo n ' t let you take pics with it on which is real good .the battery recharges ral fast and the recharger thingy that comes with is real nice .ooh , and i dropped it and it still works fine : this little camera has so many features i have n ' t even gotten to all of them yet .\n",
      "\n",
      "Summary --> \n",
      "Len of review : 200 words.\n",
      "\n",
      "Title --> excellent little camera :\n",
      "\n",
      "i did quite a bit of research before buying this camera , and this one had everything i was looking for .it ' s easy for beginners to use , but has features that more serious photographers will love , so it ' s an excellent camera to grow into .it ' s light weight enough to take with you everywhere , but powerful enough to get outstanding pix .i love the continuous shot mode , which allows you to take up to 16 pix in rapid succession -- great for action shots .i ' m amazed at the photo quality -- prints are indistinguishable from 35mm prints .i only have one complaint , and that is the 8mb card included .8mb for a camera like this is a joke .a card with more memory is a must .a minor quibble , since most cameras on the market still only include the 8mb cards .\n",
      "\n",
      "Summary --> \n",
      "Len of review : 155 words.\n",
      "\n",
      "Title --> perfect consumer digital camera :\n",
      "\n",
      "if you do any research into digital cameras , you ' ll quickly find that this camera is just about the best value out there .these are the reasons i think it ' s great :1 it has all the features an amatuer photo - enthusiast would want .2 it is easy enough for my grandmother to use .3 it is very compact but the controls are so well designed that they ' re still easy to use .4 it has optional lenses like wide angles and extra zooms .5 for \" digital film \" it uses compact flash cards , which are easy to find , cheap , reliable and supported by many other devices you may have at hoome .6 the nikon coolpix line is a well - established line so you know support and parts are going to be available even when nikon releases a newer model .7 picture quality is excellent .8 battery life is excellent .9 3x built - in optical zoom is a lot for this price range .10 great price for all the features .here ' s what you may miss or be annoyed by with this camera :1 no direct firewire to the camera .there is usb , though .2 the camera is so small that when you attach some lenses i have the 19mm wide - angle -- wc - e 68 , the optical viewfinder is partially obscured .this does n ' t affect the picture , of course .you just have to use the lcd viewfinder to see the whole picture .it ' s no problem for me personally .3 battery has to be removed to recharge .4 an ac adapter for powering the camera while the battery ' s out is not included , although one can be purchased separately .5 two different adapters -- ur - e 4 and ur - e 7 -- are required for some attachment lenses .most of these \" annoyances \" , though , are comparable to what you ' ll find on other cameras in this price range .\n",
      "\n",
      "Summary --> \n",
      "Len of review : 348 words.\n",
      "\n",
      "Title --> small camera :\n",
      "\n",
      "i am new to the whole digital camera thing ; well , new to the whole camera thing period , really .this camera was affordable , very easy to learn , and produces spectacular images .the auto - mode is good enough for most shots but the 4300 also boasts 12 versatile scene modes as well as a manual mode though i admit i have n ' t played with it too much on manual .it ' s size also makes it ideal for travel .overall the nikon 4300 is a very dependable , robust , and useful little camera .\n",
      "\n",
      "Summary --> \n",
      "Len of review : 101 words.\n",
      "\n",
      "Title --> nikon does it again :\n",
      "\n",
      "awesome camera with huge print quality in a tiny package .the same 4mp chip from the 4500 camera , plus a 3x zoom with the ability to expand upon that with extenders , great closeup mode , long lasting rechargable battery , etc etc .in my opinion it ' s the best camera for the money if you ' re looking for something that ' s easy to use , small good for travel , and provides excellent , sharp images .\n",
      "\n",
      "Summary --> \n",
      "Len of review : 82 words.\n",
      "\n"
     ]
    }
   ],
   "source": [
    "print(\"Complete Review Texts\".center(150))\n",
    "i = 1\n",
    "for rev in review_texts:\n",
    "    print(f\"Title --> {review_titles[f'rev_{i}']} :\\n\\n{rev}\\n\")\n",
    "    print(f\"Summary --> \\nLen of review : {len(rev.split())} words.\\n\")\n",
    "    i += 1"
   ]
  },
  {
   "cell_type": "markdown",
   "id": "6b4c474f",
   "metadata": {
    "papermill": {
     "duration": 0.015841,
     "end_time": "2024-10-07T12:13:33.085529",
     "exception": false,
     "start_time": "2024-10-07T12:13:33.069688",
     "status": "completed"
    },
    "tags": []
   },
   "source": [
    "**Words per review**"
   ]
  },
  {
   "cell_type": "code",
   "execution_count": 12,
   "id": "355b8837",
   "metadata": {
    "execution": {
     "iopub.execute_input": "2024-10-07T12:13:33.119159Z",
     "iopub.status.busy": "2024-10-07T12:13:33.118698Z",
     "iopub.status.idle": "2024-10-07T12:13:33.124246Z",
     "shell.execute_reply": "2024-10-07T12:13:33.122782Z"
    },
    "papermill": {
     "duration": 0.025365,
     "end_time": "2024-10-07T12:13:33.126712",
     "exception": false,
     "start_time": "2024-10-07T12:13:33.101347",
     "status": "completed"
    },
    "tags": []
   },
   "outputs": [],
   "source": [
    "words_per_review = [len(rev) for rev in review_texts]"
   ]
  },
  {
   "cell_type": "code",
   "execution_count": 13,
   "id": "4d897a9e",
   "metadata": {
    "execution": {
     "iopub.execute_input": "2024-10-07T12:13:33.160331Z",
     "iopub.status.busy": "2024-10-07T12:13:33.159893Z",
     "iopub.status.idle": "2024-10-07T12:13:33.166208Z",
     "shell.execute_reply": "2024-10-07T12:13:33.165111Z"
    },
    "papermill": {
     "duration": 0.026168,
     "end_time": "2024-10-07T12:13:33.168913",
     "exception": false,
     "start_time": "2024-10-07T12:13:33.142745",
     "status": "completed"
    },
    "tags": []
   },
   "outputs": [
    {
     "name": "stdout",
     "output_type": "stream",
     "text": [
      "Largest review: 2953\n",
      "Smallest review: 85\n",
      "Average words per review: 935\n"
     ]
    }
   ],
   "source": [
    "print(f\"Largest review: {max(words_per_review)}\")\n",
    "print(f\"Smallest review: {min(words_per_review)}\")\n",
    "print(f\"Average words per review: {sum(words_per_review)/ len(words_per_review):.0f}\")"
   ]
  },
  {
   "cell_type": "markdown",
   "id": "57fcf08d",
   "metadata": {
    "papermill": {
     "duration": 0.016764,
     "end_time": "2024-10-07T12:13:33.202563",
     "exception": false,
     "start_time": "2024-10-07T12:13:33.185799",
     "status": "completed"
    },
    "tags": []
   },
   "source": [
    "**Average sentence length analysis**"
   ]
  },
  {
   "cell_type": "code",
   "execution_count": 14,
   "id": "2a5a6cd3",
   "metadata": {
    "execution": {
     "iopub.execute_input": "2024-10-07T12:13:33.236584Z",
     "iopub.status.busy": "2024-10-07T12:13:33.236125Z",
     "iopub.status.idle": "2024-10-07T12:13:33.361471Z",
     "shell.execute_reply": "2024-10-07T12:13:33.360255Z"
    },
    "papermill": {
     "duration": 0.145574,
     "end_time": "2024-10-07T12:13:33.364306",
     "exception": false,
     "start_time": "2024-10-07T12:13:33.218732",
     "status": "completed"
    },
    "tags": []
   },
   "outputs": [],
   "source": [
    "sent_length = [len(rev) for rev in review_sentence]"
   ]
  },
  {
   "cell_type": "code",
   "execution_count": 15,
   "id": "baaeb2bc",
   "metadata": {
    "execution": {
     "iopub.execute_input": "2024-10-07T12:13:33.398356Z",
     "iopub.status.busy": "2024-10-07T12:13:33.397653Z",
     "iopub.status.idle": "2024-10-07T12:13:33.403929Z",
     "shell.execute_reply": "2024-10-07T12:13:33.402810Z"
    },
    "papermill": {
     "duration": 0.026078,
     "end_time": "2024-10-07T12:13:33.406398",
     "exception": false,
     "start_time": "2024-10-07T12:13:33.380320",
     "status": "completed"
    },
    "tags": []
   },
   "outputs": [
    {
     "name": "stdout",
     "output_type": "stream",
     "text": [
      "Largest sentence: 66\n",
      "Smallest sentence: 3\n",
      "Average sentence length: 19\n"
     ]
    }
   ],
   "source": [
    "print(f\"Largest sentence: {max(sent_length)}\")\n",
    "print(f\"Smallest sentence: {min(sent_length)}\")\n",
    "print(f\"Average sentence length: {sum(sent_length)/ len(sent_length):.0f}\")"
   ]
  },
  {
   "cell_type": "markdown",
   "id": "0d639e9f",
   "metadata": {
    "papermill": {
     "duration": 0.015664,
     "end_time": "2024-10-07T12:13:33.438443",
     "exception": false,
     "start_time": "2024-10-07T12:13:33.422779",
     "status": "completed"
    },
    "tags": []
   },
   "source": [
    "**Review title analysis**"
   ]
  },
  {
   "cell_type": "code",
   "execution_count": 16,
   "id": "36b33328",
   "metadata": {
    "execution": {
     "iopub.execute_input": "2024-10-07T12:13:33.473442Z",
     "iopub.status.busy": "2024-10-07T12:13:33.472620Z",
     "iopub.status.idle": "2024-10-07T12:13:33.478090Z",
     "shell.execute_reply": "2024-10-07T12:13:33.476912Z"
    },
    "papermill": {
     "duration": 0.025526,
     "end_time": "2024-10-07T12:13:33.480585",
     "exception": false,
     "start_time": "2024-10-07T12:13:33.455059",
     "status": "completed"
    },
    "tags": []
   },
   "outputs": [],
   "source": [
    "titles = ' '.join(list(review_titles.values()))"
   ]
  },
  {
   "cell_type": "code",
   "execution_count": 17,
   "id": "5dd7e144",
   "metadata": {
    "execution": {
     "iopub.execute_input": "2024-10-07T12:13:33.514725Z",
     "iopub.status.busy": "2024-10-07T12:13:33.514295Z",
     "iopub.status.idle": "2024-10-07T12:13:33.533739Z",
     "shell.execute_reply": "2024-10-07T12:13:33.532542Z"
    },
    "papermill": {
     "duration": 0.039891,
     "end_time": "2024-10-07T12:13:33.536647",
     "exception": false,
     "start_time": "2024-10-07T12:13:33.496756",
     "status": "completed"
    },
    "tags": []
   },
   "outputs": [],
   "source": [
    "# tokenization\n",
    "tokens = nltk.word_tokenize(titles)"
   ]
  },
  {
   "cell_type": "markdown",
   "id": "16d6fe6d",
   "metadata": {
    "papermill": {
     "duration": 0.015734,
     "end_time": "2024-10-07T12:13:33.568585",
     "exception": false,
     "start_time": "2024-10-07T12:13:33.552851",
     "status": "completed"
    },
    "tags": []
   },
   "source": [
    "# Word frequency distribution\n"
   ]
  },
  {
   "cell_type": "markdown",
   "id": "3f6218eb",
   "metadata": {
    "papermill": {
     "duration": 0.015707,
     "end_time": "2024-10-07T12:13:33.600219",
     "exception": false,
     "start_time": "2024-10-07T12:13:33.584512",
     "status": "completed"
    },
    "tags": []
   },
   "source": [
    "* Analyze the word frequency using the Freq_dist function of nltk.\n",
    "* This accounts for frequency of each word in the text being analyzed.\n",
    "* Create a dataframe for ease of analysis."
   ]
  },
  {
   "cell_type": "code",
   "execution_count": 18,
   "id": "937c13dd",
   "metadata": {
    "execution": {
     "iopub.execute_input": "2024-10-07T12:13:33.634863Z",
     "iopub.status.busy": "2024-10-07T12:13:33.634431Z",
     "iopub.status.idle": "2024-10-07T12:13:33.660611Z",
     "shell.execute_reply": "2024-10-07T12:13:33.659526Z"
    },
    "papermill": {
     "duration": 0.046694,
     "end_time": "2024-10-07T12:13:33.663123",
     "exception": false,
     "start_time": "2024-10-07T12:13:33.616429",
     "status": "completed"
    },
    "tags": []
   },
   "outputs": [
    {
     "data": {
      "text/plain": [
       "121"
      ]
     },
     "execution_count": 18,
     "metadata": {},
     "output_type": "execute_result"
    }
   ],
   "source": [
    "freq_dist = pd.DataFrame({\"words\" : nltk.FreqDist(tokens).keys(), \"freq\" : nltk.FreqDist(tokens).values()})\n",
    "freq_dist.sort_values('freq',ascending=False, inplace = True, ignore_index=True)\n",
    "freq_dist.freq.sum()"
   ]
  },
  {
   "cell_type": "code",
   "execution_count": 19,
   "id": "5f125ad7",
   "metadata": {
    "execution": {
     "iopub.execute_input": "2024-10-07T12:13:33.697547Z",
     "iopub.status.busy": "2024-10-07T12:13:33.697095Z",
     "iopub.status.idle": "2024-10-07T12:13:33.712582Z",
     "shell.execute_reply": "2024-10-07T12:13:33.711423Z"
    },
    "papermill": {
     "duration": 0.035642,
     "end_time": "2024-10-07T12:13:33.715201",
     "exception": false,
     "start_time": "2024-10-07T12:13:33.679559",
     "status": "completed"
    },
    "tags": []
   },
   "outputs": [
    {
     "data": {
      "text/html": [
       "<div>\n",
       "<style scoped>\n",
       "    .dataframe tbody tr th:only-of-type {\n",
       "        vertical-align: middle;\n",
       "    }\n",
       "\n",
       "    .dataframe tbody tr th {\n",
       "        vertical-align: top;\n",
       "    }\n",
       "\n",
       "    .dataframe thead th {\n",
       "        text-align: right;\n",
       "    }\n",
       "</style>\n",
       "<table border=\"1\" class=\"dataframe\">\n",
       "  <thead>\n",
       "    <tr style=\"text-align: right;\">\n",
       "      <th></th>\n",
       "      <th>words</th>\n",
       "      <th>freq</th>\n",
       "    </tr>\n",
       "  </thead>\n",
       "  <tbody>\n",
       "    <tr>\n",
       "      <th>0</th>\n",
       "      <td>camera</td>\n",
       "      <td>16</td>\n",
       "    </tr>\n",
       "    <tr>\n",
       "      <th>1</th>\n",
       "      <td>great</td>\n",
       "      <td>7</td>\n",
       "    </tr>\n",
       "    <tr>\n",
       "      <th>2</th>\n",
       "      <td>digital</td>\n",
       "      <td>4</td>\n",
       "    </tr>\n",
       "    <tr>\n",
       "      <th>3</th>\n",
       "      <td>it</td>\n",
       "      <td>3</td>\n",
       "    </tr>\n",
       "    <tr>\n",
       "      <th>4</th>\n",
       "      <td>excellent</td>\n",
       "      <td>3</td>\n",
       "    </tr>\n",
       "    <tr>\n",
       "      <th>5</th>\n",
       "      <td>not</td>\n",
       "      <td>3</td>\n",
       "    </tr>\n",
       "    <tr>\n",
       "      <th>6</th>\n",
       "      <td>the</td>\n",
       "      <td>2</td>\n",
       "    </tr>\n",
       "    <tr>\n",
       "      <th>7</th>\n",
       "      <td>``</td>\n",
       "      <td>2</td>\n",
       "    </tr>\n",
       "    <tr>\n",
       "      <th>8</th>\n",
       "      <td>and</td>\n",
       "      <td>2</td>\n",
       "    </tr>\n",
       "    <tr>\n",
       "      <th>9</th>\n",
       "      <td>price</td>\n",
       "      <td>2</td>\n",
       "    </tr>\n",
       "  </tbody>\n",
       "</table>\n",
       "</div>"
      ],
      "text/plain": [
       "       words  freq\n",
       "0     camera    16\n",
       "1      great     7\n",
       "2    digital     4\n",
       "3         it     3\n",
       "4  excellent     3\n",
       "5        not     3\n",
       "6        the     2\n",
       "7         ``     2\n",
       "8        and     2\n",
       "9      price     2"
      ]
     },
     "execution_count": 19,
     "metadata": {},
     "output_type": "execute_result"
    }
   ],
   "source": [
    "freq_dist.head(10)"
   ]
  },
  {
   "cell_type": "markdown",
   "id": "db89b573",
   "metadata": {
    "papermill": {
     "duration": 0.016869,
     "end_time": "2024-10-07T12:13:33.748528",
     "exception": false,
     "start_time": "2024-10-07T12:13:33.731659",
     "status": "completed"
    },
    "tags": []
   },
   "source": [
    "# Stopword analysis\n",
    "\n",
    "**Clean the data further to remove the frequently occurring stopwords.**"
   ]
  },
  {
   "cell_type": "code",
   "execution_count": 20,
   "id": "0c0e5f9b",
   "metadata": {
    "execution": {
     "iopub.execute_input": "2024-10-07T12:13:33.784357Z",
     "iopub.status.busy": "2024-10-07T12:13:33.783867Z",
     "iopub.status.idle": "2024-10-07T12:13:33.791456Z",
     "shell.execute_reply": "2024-10-07T12:13:33.790399Z"
    },
    "papermill": {
     "duration": 0.028116,
     "end_time": "2024-10-07T12:13:33.793974",
     "exception": false,
     "start_time": "2024-10-07T12:13:33.765858",
     "status": "completed"
    },
    "tags": []
   },
   "outputs": [],
   "source": [
    "stp_words = nltk.corpus.stopwords.words('english')"
   ]
  },
  {
   "cell_type": "code",
   "execution_count": 21,
   "id": "877ee160",
   "metadata": {
    "execution": {
     "iopub.execute_input": "2024-10-07T12:13:33.829539Z",
     "iopub.status.busy": "2024-10-07T12:13:33.828419Z",
     "iopub.status.idle": "2024-10-07T12:13:33.844706Z",
     "shell.execute_reply": "2024-10-07T12:13:33.843547Z"
    },
    "papermill": {
     "duration": 0.036567,
     "end_time": "2024-10-07T12:13:33.847163",
     "exception": false,
     "start_time": "2024-10-07T12:13:33.810596",
     "status": "completed"
    },
    "tags": []
   },
   "outputs": [
    {
     "data": {
      "text/html": [
       "<div>\n",
       "<style scoped>\n",
       "    .dataframe tbody tr th:only-of-type {\n",
       "        vertical-align: middle;\n",
       "    }\n",
       "\n",
       "    .dataframe tbody tr th {\n",
       "        vertical-align: top;\n",
       "    }\n",
       "\n",
       "    .dataframe thead th {\n",
       "        text-align: right;\n",
       "    }\n",
       "</style>\n",
       "<table border=\"1\" class=\"dataframe\">\n",
       "  <thead>\n",
       "    <tr style=\"text-align: right;\">\n",
       "      <th></th>\n",
       "      <th>words</th>\n",
       "      <th>freq</th>\n",
       "    </tr>\n",
       "  </thead>\n",
       "  <tbody>\n",
       "    <tr>\n",
       "      <th>0</th>\n",
       "      <td>it</td>\n",
       "      <td>3</td>\n",
       "    </tr>\n",
       "    <tr>\n",
       "      <th>1</th>\n",
       "      <td>not</td>\n",
       "      <td>3</td>\n",
       "    </tr>\n",
       "    <tr>\n",
       "      <th>2</th>\n",
       "      <td>the</td>\n",
       "      <td>2</td>\n",
       "    </tr>\n",
       "    <tr>\n",
       "      <th>3</th>\n",
       "      <td>and</td>\n",
       "      <td>2</td>\n",
       "    </tr>\n",
       "    <tr>\n",
       "      <th>4</th>\n",
       "      <td>i</td>\n",
       "      <td>2</td>\n",
       "    </tr>\n",
       "    <tr>\n",
       "      <th>5</th>\n",
       "      <td>a</td>\n",
       "      <td>2</td>\n",
       "    </tr>\n",
       "    <tr>\n",
       "      <th>6</th>\n",
       "      <td>only</td>\n",
       "      <td>1</td>\n",
       "    </tr>\n",
       "    <tr>\n",
       "      <th>7</th>\n",
       "      <td>do</td>\n",
       "      <td>1</td>\n",
       "    </tr>\n",
       "    <tr>\n",
       "      <th>8</th>\n",
       "      <td>you</td>\n",
       "      <td>1</td>\n",
       "    </tr>\n",
       "    <tr>\n",
       "      <th>9</th>\n",
       "      <td>will</td>\n",
       "      <td>1</td>\n",
       "    </tr>\n",
       "  </tbody>\n",
       "</table>\n",
       "</div>"
      ],
      "text/plain": [
       "  words  freq\n",
       "0    it     3\n",
       "1   not     3\n",
       "2   the     2\n",
       "3   and     2\n",
       "4     i     2\n",
       "5     a     2\n",
       "6  only     1\n",
       "7    do     1\n",
       "8   you     1\n",
       "9  will     1"
      ]
     },
     "execution_count": 21,
     "metadata": {},
     "output_type": "execute_result"
    }
   ],
   "source": [
    "stp_wrd_freq_dist = freq_dist[freq_dist.words.isin(stp_words)].reset_index(drop = True)\n",
    "stp_wrd_freq_dist[:10]"
   ]
  },
  {
   "cell_type": "markdown",
   "id": "fa70765e",
   "metadata": {
    "papermill": {
     "duration": 0.016747,
     "end_time": "2024-10-07T12:13:33.880651",
     "exception": false,
     "start_time": "2024-10-07T12:13:33.863904",
     "status": "completed"
    },
    "tags": []
   },
   "source": [
    "# Use a bar chart to analyze the most frequent words in the text."
   ]
  },
  {
   "cell_type": "code",
   "execution_count": 22,
   "id": "b4d3d9e7",
   "metadata": {
    "execution": {
     "iopub.execute_input": "2024-10-07T12:13:33.916113Z",
     "iopub.status.busy": "2024-10-07T12:13:33.915691Z",
     "iopub.status.idle": "2024-10-07T12:13:34.232462Z",
     "shell.execute_reply": "2024-10-07T12:13:34.231163Z"
    },
    "papermill": {
     "duration": 0.338245,
     "end_time": "2024-10-07T12:13:34.235793",
     "exception": false,
     "start_time": "2024-10-07T12:13:33.897548",
     "status": "completed"
    },
    "tags": []
   },
   "outputs": [
    {
     "data": {
      "image/png": "[encoded data removed]",
      "text/plain": [
       "<Figure size 2000x500 with 1 Axes>"
      ]
     },
     "metadata": {},
     "output_type": "display_data"
    }
   ],
   "source": [
    "plt.figure(figsize = (20,5))\n",
    "plt.bar(x = stp_wrd_freq_dist.words[:10], height=stp_wrd_freq_dist.freq[:10])\n",
    "for i in range(10):\n",
    "    plt.annotate(f\"{stp_wrd_freq_dist.freq[i]}\",xy = (i, stp_wrd_freq_dist.freq[i]+0.15) )\n",
    "plt.ylim(0,12)\n",
    "plt.show()"
   ]
  },
  {
   "cell_type": "markdown",
   "id": "55f3c144",
   "metadata": {
    "papermill": {
     "duration": 0.026223,
     "end_time": "2024-10-07T12:13:34.283780",
     "exception": false,
     "start_time": "2024-10-07T12:13:34.257557",
     "status": "completed"
    },
    "tags": []
   },
   "source": [
    "**Perform a granular analysis exploring the top 20 words by frequency.**"
   ]
  },
  {
   "cell_type": "code",
   "execution_count": 23,
   "id": "163583ae",
   "metadata": {
    "execution": {
     "iopub.execute_input": "2024-10-07T12:13:34.320382Z",
     "iopub.status.busy": "2024-10-07T12:13:34.319947Z",
     "iopub.status.idle": "2024-10-07T12:13:34.333346Z",
     "shell.execute_reply": "2024-10-07T12:13:34.332142Z"
    },
    "papermill": {
     "duration": 0.034417,
     "end_time": "2024-10-07T12:13:34.335824",
     "exception": false,
     "start_time": "2024-10-07T12:13:34.301407",
     "status": "completed"
    },
    "tags": []
   },
   "outputs": [
    {
     "data": {
      "text/html": [
       "<div>\n",
       "<style scoped>\n",
       "    .dataframe tbody tr th:only-of-type {\n",
       "        vertical-align: middle;\n",
       "    }\n",
       "\n",
       "    .dataframe tbody tr th {\n",
       "        vertical-align: top;\n",
       "    }\n",
       "\n",
       "    .dataframe thead th {\n",
       "        text-align: right;\n",
       "    }\n",
       "</style>\n",
       "<table border=\"1\" class=\"dataframe\">\n",
       "  <thead>\n",
       "    <tr style=\"text-align: right;\">\n",
       "      <th></th>\n",
       "      <th>words</th>\n",
       "      <th>freq</th>\n",
       "    </tr>\n",
       "  </thead>\n",
       "  <tbody>\n",
       "    <tr>\n",
       "      <th>0</th>\n",
       "      <td>camera</td>\n",
       "      <td>16</td>\n",
       "    </tr>\n",
       "    <tr>\n",
       "      <th>1</th>\n",
       "      <td>great</td>\n",
       "      <td>7</td>\n",
       "    </tr>\n",
       "    <tr>\n",
       "      <th>2</th>\n",
       "      <td>digital</td>\n",
       "      <td>4</td>\n",
       "    </tr>\n",
       "    <tr>\n",
       "      <th>3</th>\n",
       "      <td>excellent</td>\n",
       "      <td>3</td>\n",
       "    </tr>\n",
       "    <tr>\n",
       "      <th>4</th>\n",
       "      <td>``</td>\n",
       "      <td>2</td>\n",
       "    </tr>\n",
       "    <tr>\n",
       "      <th>5</th>\n",
       "      <td>price</td>\n",
       "      <td>2</td>\n",
       "    </tr>\n",
       "    <tr>\n",
       "      <th>6</th>\n",
       "      <td>best</td>\n",
       "      <td>2</td>\n",
       "    </tr>\n",
       "    <tr>\n",
       "      <th>7</th>\n",
       "      <td>little</td>\n",
       "      <td>2</td>\n",
       "    </tr>\n",
       "    <tr>\n",
       "      <th>8</th>\n",
       "      <td>super</td>\n",
       "      <td>2</td>\n",
       "    </tr>\n",
       "    <tr>\n",
       "      <th>9</th>\n",
       "      <td>compact</td>\n",
       "      <td>2</td>\n",
       "    </tr>\n",
       "  </tbody>\n",
       "</table>\n",
       "</div>"
      ],
      "text/plain": [
       "       words  freq\n",
       "0     camera    16\n",
       "1      great     7\n",
       "2    digital     4\n",
       "3  excellent     3\n",
       "4         ``     2\n",
       "5      price     2\n",
       "6       best     2\n",
       "7     little     2\n",
       "8      super     2\n",
       "9    compact     2"
      ]
     },
     "execution_count": 23,
     "metadata": {},
     "output_type": "execute_result"
    }
   ],
   "source": [
    "top_20_words = freq_dist[~(freq_dist.words.isin(stp_words))].reset_index(drop = True)\n",
    "top_20_words.head(10)"
   ]
  },
  {
   "cell_type": "code",
   "execution_count": 24,
   "id": "460ba42c",
   "metadata": {
    "execution": {
     "iopub.execute_input": "2024-10-07T12:13:34.379633Z",
     "iopub.status.busy": "2024-10-07T12:13:34.378790Z",
     "iopub.status.idle": "2024-10-07T12:13:34.730698Z",
     "shell.execute_reply": "2024-10-07T12:13:34.729596Z"
    },
    "papermill": {
     "duration": 0.378981,
     "end_time": "2024-10-07T12:13:34.733070",
     "exception": false,
     "start_time": "2024-10-07T12:13:34.354089",
     "status": "completed"
    },
    "tags": []
   },
   "outputs": [
    {
     "data": {
      "image/png": "[encoded data removed]",
      "text/plain": [
       "<Figure size 2000x500 with 1 Axes>"
      ]
     },
     "metadata": {},
     "output_type": "display_data"
    }
   ],
   "source": [
    "plt.figure(figsize = (20,5))\n",
    "plt.bar(x = top_20_words.words[:10], height=top_20_words.freq[:10])\n",
    "for i in range(10):\n",
    "    plt.annotate(f\"{top_20_words.freq[i]}\",xy = (i, top_20_words.freq[i]+0.15) )\n",
    "# plt.ylim(0,12)\n",
    "plt.show()"
   ]
  },
  {
   "cell_type": "markdown",
   "id": "1c71e74d",
   "metadata": {
    "papermill": {
     "duration": 0.017361,
     "end_time": "2024-10-07T12:13:34.768523",
     "exception": false,
     "start_time": "2024-10-07T12:13:34.751162",
     "status": "completed"
    },
    "tags": []
   },
   "source": [
    "* Looking at the plot it seems terms like camera which are terms identical to product name are present in abundance.\n",
    "* Also the character '' needs to be dropped too\n",
    "* However they are not contributing much to analysis, hence these may be removed from the data."
   ]
  },
  {
   "cell_type": "code",
   "execution_count": 25,
   "id": "5029aba8",
   "metadata": {
    "execution": {
     "iopub.execute_input": "2024-10-07T12:13:34.806431Z",
     "iopub.status.busy": "2024-10-07T12:13:34.805975Z",
     "iopub.status.idle": "2024-10-07T12:13:34.812673Z",
     "shell.execute_reply": "2024-10-07T12:13:34.811484Z"
    },
    "papermill": {
     "duration": 0.028586,
     "end_time": "2024-10-07T12:13:34.815024",
     "exception": false,
     "start_time": "2024-10-07T12:13:34.786438",
     "status": "completed"
    },
    "tags": []
   },
   "outputs": [],
   "source": [
    "top_20_words.drop(index=4, inplace=True)"
   ]
  },
  {
   "cell_type": "code",
   "execution_count": 26,
   "id": "26d2dd04",
   "metadata": {
    "execution": {
     "iopub.execute_input": "2024-10-07T12:13:34.853319Z",
     "iopub.status.busy": "2024-10-07T12:13:34.852450Z",
     "iopub.status.idle": "2024-10-07T12:13:34.863455Z",
     "shell.execute_reply": "2024-10-07T12:13:34.862364Z"
    },
    "papermill": {
     "duration": 0.032793,
     "end_time": "2024-10-07T12:13:34.865780",
     "exception": false,
     "start_time": "2024-10-07T12:13:34.832987",
     "status": "completed"
    },
    "tags": []
   },
   "outputs": [
    {
     "data": {
      "text/html": [
       "<div>\n",
       "<style scoped>\n",
       "    .dataframe tbody tr th:only-of-type {\n",
       "        vertical-align: middle;\n",
       "    }\n",
       "\n",
       "    .dataframe tbody tr th {\n",
       "        vertical-align: top;\n",
       "    }\n",
       "\n",
       "    .dataframe thead th {\n",
       "        text-align: right;\n",
       "    }\n",
       "</style>\n",
       "<table border=\"1\" class=\"dataframe\">\n",
       "  <thead>\n",
       "    <tr style=\"text-align: right;\">\n",
       "      <th></th>\n",
       "      <th>words</th>\n",
       "      <th>freq</th>\n",
       "    </tr>\n",
       "  </thead>\n",
       "  <tbody>\n",
       "    <tr>\n",
       "      <th>0</th>\n",
       "      <td>camera</td>\n",
       "      <td>16</td>\n",
       "    </tr>\n",
       "    <tr>\n",
       "      <th>1</th>\n",
       "      <td>great</td>\n",
       "      <td>7</td>\n",
       "    </tr>\n",
       "    <tr>\n",
       "      <th>2</th>\n",
       "      <td>digital</td>\n",
       "      <td>4</td>\n",
       "    </tr>\n",
       "    <tr>\n",
       "      <th>3</th>\n",
       "      <td>excellent</td>\n",
       "      <td>3</td>\n",
       "    </tr>\n",
       "    <tr>\n",
       "      <th>5</th>\n",
       "      <td>price</td>\n",
       "      <td>2</td>\n",
       "    </tr>\n",
       "  </tbody>\n",
       "</table>\n",
       "</div>"
      ],
      "text/plain": [
       "       words  freq\n",
       "0     camera    16\n",
       "1      great     7\n",
       "2    digital     4\n",
       "3  excellent     3\n",
       "5      price     2"
      ]
     },
     "execution_count": 26,
     "metadata": {},
     "output_type": "execute_result"
    }
   ],
   "source": [
    "top_20_words.head()"
   ]
  },
  {
   "cell_type": "code",
   "execution_count": 27,
   "id": "19d66647",
   "metadata": {
    "execution": {
     "iopub.execute_input": "2024-10-07T12:13:34.904111Z",
     "iopub.status.busy": "2024-10-07T12:13:34.903687Z",
     "iopub.status.idle": "2024-10-07T12:13:34.916438Z",
     "shell.execute_reply": "2024-10-07T12:13:34.915361Z"
    },
    "papermill": {
     "duration": 0.034615,
     "end_time": "2024-10-07T12:13:34.918725",
     "exception": false,
     "start_time": "2024-10-07T12:13:34.884110",
     "status": "completed"
    },
    "tags": []
   },
   "outputs": [
    {
     "data": {
      "text/html": [
       "<div>\n",
       "<style scoped>\n",
       "    .dataframe tbody tr th:only-of-type {\n",
       "        vertical-align: middle;\n",
       "    }\n",
       "\n",
       "    .dataframe tbody tr th {\n",
       "        vertical-align: top;\n",
       "    }\n",
       "\n",
       "    .dataframe thead th {\n",
       "        text-align: right;\n",
       "    }\n",
       "</style>\n",
       "<table border=\"1\" class=\"dataframe\">\n",
       "  <thead>\n",
       "    <tr style=\"text-align: right;\">\n",
       "      <th></th>\n",
       "      <th>words</th>\n",
       "      <th>freq</th>\n",
       "    </tr>\n",
       "  </thead>\n",
       "  <tbody>\n",
       "    <tr>\n",
       "      <th>1</th>\n",
       "      <td>great</td>\n",
       "      <td>7</td>\n",
       "    </tr>\n",
       "    <tr>\n",
       "      <th>2</th>\n",
       "      <td>digital</td>\n",
       "      <td>4</td>\n",
       "    </tr>\n",
       "    <tr>\n",
       "      <th>3</th>\n",
       "      <td>excellent</td>\n",
       "      <td>3</td>\n",
       "    </tr>\n",
       "    <tr>\n",
       "      <th>5</th>\n",
       "      <td>price</td>\n",
       "      <td>2</td>\n",
       "    </tr>\n",
       "    <tr>\n",
       "      <th>6</th>\n",
       "      <td>best</td>\n",
       "      <td>2</td>\n",
       "    </tr>\n",
       "    <tr>\n",
       "      <th>7</th>\n",
       "      <td>little</td>\n",
       "      <td>2</td>\n",
       "    </tr>\n",
       "    <tr>\n",
       "      <th>8</th>\n",
       "      <td>super</td>\n",
       "      <td>2</td>\n",
       "    </tr>\n",
       "    <tr>\n",
       "      <th>9</th>\n",
       "      <td>compact</td>\n",
       "      <td>2</td>\n",
       "    </tr>\n",
       "    <tr>\n",
       "      <th>10</th>\n",
       "      <td>perfect</td>\n",
       "      <td>2</td>\n",
       "    </tr>\n",
       "    <tr>\n",
       "      <th>11</th>\n",
       "      <td>4-mp</td>\n",
       "      <td>1</td>\n",
       "    </tr>\n",
       "  </tbody>\n",
       "</table>\n",
       "</div>"
      ],
      "text/plain": [
       "        words  freq\n",
       "1       great     7\n",
       "2     digital     4\n",
       "3   excellent     3\n",
       "5       price     2\n",
       "6        best     2\n",
       "7      little     2\n",
       "8       super     2\n",
       "9     compact     2\n",
       "10    perfect     2\n",
       "11       4-mp     1"
      ]
     },
     "execution_count": 27,
     "metadata": {},
     "output_type": "execute_result"
    }
   ],
   "source": [
    "word_list = ['camera']\n",
    "most_list = top_20_words[~(top_20_words.words.isin(word_list))]\n",
    "most_list.head(10)"
   ]
  },
  {
   "cell_type": "code",
   "execution_count": 28,
   "id": "3ffb1c64",
   "metadata": {
    "execution": {
     "iopub.execute_input": "2024-10-07T12:13:34.957988Z",
     "iopub.status.busy": "2024-10-07T12:13:34.956971Z",
     "iopub.status.idle": "2024-10-07T12:13:34.963538Z",
     "shell.execute_reply": "2024-10-07T12:13:34.962401Z"
    },
    "papermill": {
     "duration": 0.028736,
     "end_time": "2024-10-07T12:13:34.965926",
     "exception": false,
     "start_time": "2024-10-07T12:13:34.937190",
     "status": "completed"
    },
    "tags": []
   },
   "outputs": [],
   "source": [
    "most_list = most_list[most_list.words.str.isalpha()]"
   ]
  },
  {
   "cell_type": "code",
   "execution_count": 29,
   "id": "85412907",
   "metadata": {
    "execution": {
     "iopub.execute_input": "2024-10-07T12:13:35.006823Z",
     "iopub.status.busy": "2024-10-07T12:13:35.006382Z",
     "iopub.status.idle": "2024-10-07T12:13:35.012147Z",
     "shell.execute_reply": "2024-10-07T12:13:35.011112Z"
    },
    "papermill": {
     "duration": 0.029847,
     "end_time": "2024-10-07T12:13:35.014526",
     "exception": false,
     "start_time": "2024-10-07T12:13:34.984679",
     "status": "completed"
    },
    "tags": []
   },
   "outputs": [],
   "source": [
    "word_freq = {word : freq for word, freq in zip(most_list.words, most_list.freq)}"
   ]
  },
  {
   "cell_type": "markdown",
   "id": "e62a3478",
   "metadata": {
    "papermill": {
     "duration": 0.018263,
     "end_time": "2024-10-07T12:13:35.051228",
     "exception": false,
     "start_time": "2024-10-07T12:13:35.032965",
     "status": "completed"
    },
    "tags": []
   },
   "source": [
    "# Wordcloud generation\n",
    "* Use a wordcloud to analyze the frequent terms in the text.\n",
    "* Wordclouds helps in identifying the theme of the text in use."
   ]
  },
  {
   "cell_type": "code",
   "execution_count": 30,
   "id": "cd130244",
   "metadata": {
    "execution": {
     "iopub.execute_input": "2024-10-07T12:13:35.090854Z",
     "iopub.status.busy": "2024-10-07T12:13:35.089838Z",
     "iopub.status.idle": "2024-10-07T12:13:35.632550Z",
     "shell.execute_reply": "2024-10-07T12:13:35.631401Z"
    },
    "papermill": {
     "duration": 0.567568,
     "end_time": "2024-10-07T12:13:35.637352",
     "exception": false,
     "start_time": "2024-10-07T12:13:35.069784",
     "status": "completed"
    },
    "tags": []
   },
   "outputs": [
    {
     "data": {
      "image/png": "[encoded data removed]",
      "text/plain": [
       "<Figure size 640x480 with 1 Axes>"
      ]
     },
     "metadata": {},
     "output_type": "display_data"
    }
   ],
   "source": [
    "wordcloud = WordCloud(width = 800, height = 600, background_color = \"white\", colormap = 'Accent')\n",
    "wordcloud.generate_from_frequencies(frequencies=word_freq)\n",
    "plt.figure()\n",
    "plt.imshow(wordcloud, interpolation=\"bilinear\")\n",
    "plt.axis(\"off\")\n",
    "plt.show()"
   ]
  }
 ],
 "metadata": {
  "kaggle": {
   "accelerator": "none",
   "dataSources": [],
   "dockerImageVersionId": 30786,
   "isGpuEnabled": false,
   "isInternetEnabled": true,
   "language": "python",
   "sourceType": "notebook"
  },
  "kernelspec": {
   "display_name": "Python 3",
   "language": "python",
   "name": "python3"
  },
  "language_info": {
   "codemirror_mode": {
    "name": "ipython",
    "version": 3
   },
   "file_extension": ".py",
   "mimetype": "text/x-python",
   "name": "python",
   "nbconvert_exporter": "python",
   "pygments_lexer": "ipython3",
   "version": "3.10.14"
  },
  "papermill": {
   "default_parameters": {},
   "duration": 10.625325,
   "end_time": "2024-10-07T12:13:36.382829",
   "environment_variables": {},
   "exception": null,
   "input_path": "__notebook__.ipynb",
   "output_path": "__notebook__.ipynb",
   "parameters": {},
   "start_time": "2024-10-07T12:13:25.757504",
   "version": "2.6.0"
  }
 },
 "nbformat": 4,
 "nbformat_minor": 5
}
